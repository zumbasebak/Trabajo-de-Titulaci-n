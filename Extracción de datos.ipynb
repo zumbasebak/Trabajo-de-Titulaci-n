{
 "cells": [
  {
   "cell_type": "markdown",
   "metadata": {
    "id": "kQzqXNZsxWi6"
   },
   "source": [
    "# <center>PONTIFICIA UNIVERSIDAD CATÓLICA DEL ECUADOR</center>\n",
    "### <center> PARTE 1: Extracción pre-limpieza de datos</center>  \n",
    "### <center>Trabajo de Titulación: USO DE APRENDIZAJE AUTOMATICO PARA EL ANALISIS DE SENTIMIENTOS A TRAVES DE REVIEWS EN LA UNIVERSIDAD CATOLICA DEL ECUADOR  </center>  \n",
    "\n",
    "**Tutor: Charles Escobar**  \n",
    "**Estudiante: Sebastian Miranda**"
   ]
  },
  {
   "cell_type": "markdown",
   "metadata": {},
   "source": [
    "\n",
    "Para la primera parte de la extracción de los datos, se utilizó la herramienta de Outscraper, la cual nos permitió extraer las reseñas que tenía la Pontificia Universidad Católica del Ecuador en la plataforma de Google Maps. Esta extracción nos entregó un archivo CSV con toda la información necesaria únicamente de la sede Quito, pero antes se tendría que comprobar si el dataset tenía algún error.\n",
    "\n",
    "Posterior a esto, también se utilizó una herramienta en la página de Apify, la cual se hizo uso de una API llamada Google Maps Reviews Scraper, esta nos permitió extraer reseñas de las sedes (Ambato, Esmeraldas, Santo Domingo, Ibarra, Manabí y Amazonas).\n",
    "\n",
    "Esto se realizó debido a que la extracción que se realizó en Outscaper, nos dio únicamente 500 datos como veremos a continuación en la extracción de esta información."
   ]
  },
  {
   "cell_type": "markdown",
   "metadata": {},
   "source": [
    "### A continuación leemos el archivo csv que nos genero la plataforma Outscaper"
   ]
  },
  {
   "cell_type": "code",
   "execution_count": 37,
   "metadata": {
    "colab": {
     "base_uri": "https://localhost:8080/"
    },
    "id": "snIhRN1jn63a",
    "outputId": "4b06a3da-a811-4be3-e376-9b186c99f92f"
   },
   "outputs": [
    {
     "name": "stdout",
     "output_type": "stream",
     "text": [
      "                                                  query  \\\n",
      "0     Pontificia Universidad Católica del Ecuador, A...   \n",
      "1     Pontificia Universidad Católica del Ecuador, A...   \n",
      "2     Pontificia Universidad Católica del Ecuador, A...   \n",
      "3     Pontificia Universidad Católica del Ecuador, A...   \n",
      "4     Pontificia Universidad Católica del Ecuador, A...   \n",
      "...                                                 ...   \n",
      "5467  Pontificia Universidad Católica del Ecuador, S...   \n",
      "5468  Pontificia Universidad Católica del Ecuador, S...   \n",
      "5469  Pontificia Universidad Católica del Ecuador, S...   \n",
      "5470  Pontificia Universidad Católica del Ecuador, T...   \n",
      "5471  Pontificia Universidad Católica del Ecuador, T...   \n",
      "\n",
      "                                                   name  \\\n",
      "0     Pontificia Universidad Católica del Ecuador - ...   \n",
      "1     Pontificia Universidad Católica del Ecuador - ...   \n",
      "2     Pontificia Universidad Católica del Ecuador - ...   \n",
      "3     Pontificia Universidad Católica del Ecuador - ...   \n",
      "4     Pontificia Universidad Católica del Ecuador - ...   \n",
      "...                                                 ...   \n",
      "5467  Pontificia Universidad Católica del Ecuador Se...   \n",
      "5468  Pontificia Universidad Católica del Ecuador Se...   \n",
      "5469  Pontificia Universidad Católica del Ecuador Se...   \n",
      "5470        Pontificia Universidad Catolica del Ecuador   \n",
      "5471        Pontificia Universidad Catolica del Ecuador   \n",
      "\n",
      "                                  google_id                     place_id  \\\n",
      "0     0x91d3821742548deb:0xdb79fd4132b3563f  ChIJ641UQheC05ERP1azMkH9eds   \n",
      "1     0x91d3821742548deb:0xdb79fd4132b3563f  ChIJ641UQheC05ERP1azMkH9eds   \n",
      "2     0x91d3821742548deb:0xdb79fd4132b3563f  ChIJ641UQheC05ERP1azMkH9eds   \n",
      "3     0x91d3821742548deb:0xdb79fd4132b3563f  ChIJ641UQheC05ERP1azMkH9eds   \n",
      "4     0x91d3821742548deb:0xdb79fd4132b3563f  ChIJ641UQheC05ERP1azMkH9eds   \n",
      "...                                     ...                          ...   \n",
      "5467  0x902bed5a4e74088d:0xf0a208510f380374  ChIJjQh0TlrtK5ARdAM4D1EIovA   \n",
      "5468  0x902bed5a4e74088d:0xf0a208510f380374  ChIJjQh0TlrtK5ARdAM4D1EIovA   \n",
      "5469  0x902bed5a4e74088d:0xf0a208510f380374  ChIJjQh0TlrtK5ARdAM4D1EIovA   \n",
      "5470  0x91d59a10cfb62fbf:0x3e3dcee6ed2412c6  ChIJvy-2zxCa1ZERxhIk7ebOPT4   \n",
      "5471  0x91d59a10cfb62fbf:0x3e3dcee6ed2412c6  ChIJvy-2zxCa1ZERxhIk7ebOPT4   \n",
      "\n",
      "                                          location_link  \\\n",
      "0     https://www.google.com/maps/place/Pontificia+U...   \n",
      "1     https://www.google.com/maps/place/Pontificia+U...   \n",
      "2     https://www.google.com/maps/place/Pontificia+U...   \n",
      "3     https://www.google.com/maps/place/Pontificia+U...   \n",
      "4     https://www.google.com/maps/place/Pontificia+U...   \n",
      "...                                                 ...   \n",
      "5467  https://www.google.com/maps/place/Pontificia+U...   \n",
      "5468  https://www.google.com/maps/place/Pontificia+U...   \n",
      "5469  https://www.google.com/maps/place/Pontificia+U...   \n",
      "5470  https://www.google.com/maps/place/Pontificia+U...   \n",
      "5471  https://www.google.com/maps/place/Pontificia+U...   \n",
      "\n",
      "                                           reviews_link  reviews  rating  \\\n",
      "0     https://search.google.com/local/reviews?placei...    147.0     4.6   \n",
      "1     https://search.google.com/local/reviews?placei...    147.0     4.6   \n",
      "2     https://search.google.com/local/reviews?placei...    147.0     4.6   \n",
      "3     https://search.google.com/local/reviews?placei...    147.0     4.6   \n",
      "4     https://search.google.com/local/reviews?placei...    147.0     4.6   \n",
      "...                                                 ...      ...     ...   \n",
      "5467  https://search.google.com/local/reviews?placei...    130.0     4.7   \n",
      "5468  https://search.google.com/local/reviews?placei...    130.0     4.7   \n",
      "5469  https://search.google.com/local/reviews?placei...    130.0     4.7   \n",
      "5470  https://search.google.com/local/reviews?placei...      2.0     5.0   \n",
      "5471  https://search.google.com/local/reviews?placei...      2.0     5.0   \n",
      "\n",
      "                                 review_id review_pagination_id  ...  \\\n",
      "0     ChdDSUhNMG9nS0VJQ0FnSURVMm9lcDJ3RRAB     CAESBkVnSUlBUQ==  ...   \n",
      "1     ChdDSUhNMG9nS0VJQ0FnSUMyem8tdjB3RRAB     CAESBkVnSUlBZw==  ...   \n",
      "2      ChZDSUhNMG9nS0VJQ0FnSUR3akkyQkxREAE     CAESBkVnSUlBdw==  ...   \n",
      "3     ChdDSUhNMG9nS0VJQ0FnSUNTaUtqZV9nRRAB     CAESBkVnSUlCQQ==  ...   \n",
      "4     ChdDSUhNMG9nS0VJQ0FnSUNlcDRLNXVRRRAB     CAESBkVnSUlCUQ==  ...   \n",
      "...                                    ...                  ...  ...   \n",
      "5467   ChZDSUhNMG9nS0VJQ0FnSUNCeUtLYUN3EAE     CAESB0VnTUlnQUU=  ...   \n",
      "5468   ChZDSUhNMG9nS0VJQ0FnSUQtbjdqbUNREAE     CAESB0VnTUlnUUU=  ...   \n",
      "5469   ChZDSUhNMG9nS0VJQ0FnSUNCeE9mOEFREAE     CAESB0VnTUlnZ0U=  ...   \n",
      "5470  ChdDSUhNMG9nS0VJQ0FnSUNBX055VjB3RRAB     CAESBkVnSUlBUQ==  ...   \n",
      "5471  ChdDSUhNMG9nS0VJQ0FnSUNROXVUV3Z3RRAB                  NaN  ...   \n",
      "\n",
      "     review_timestamp  review_datetime_utc review_likes    reviews_id  \\\n",
      "0        1.566341e+09  08/20/2019 22:47:24          5.0 -2.631794e+18   \n",
      "1        1.677287e+09  02/25/2023 00:59:49          0.0 -2.631794e+18   \n",
      "2        1.540496e+09  10/25/2018 19:37:28          0.0 -2.631794e+18   \n",
      "3        1.623848e+09  06/16/2021 12:51:58          0.0 -2.631794e+18   \n",
      "4        1.675256e+09  02/01/2023 12:45:38          0.0 -2.631794e+18   \n",
      "...               ...                  ...          ...           ...   \n",
      "5467     1.671130e+09  12/15/2022 18:45:07          0.0 -1.107313e+18   \n",
      "5468     1.670914e+09  12/13/2022 06:38:49          0.0 -1.107313e+18   \n",
      "5469     1.671284e+09  12/17/2022 13:30:09          0.0 -1.107313e+18   \n",
      "5470     1.501082e+09  07/26/2017 15:11:49          0.0  4.484968e+18   \n",
      "5471     1.513091e+09  12/12/2017 14:58:15          0.0  4.484968e+18   \n",
      "\n",
      "      reviews_per_score_1  reviews_per_score_2 reviews_per_score_3  \\\n",
      "0                     5.0                  3.0                 4.0   \n",
      "1                     5.0                  3.0                 4.0   \n",
      "2                     5.0                  3.0                 4.0   \n",
      "3                     5.0                  3.0                 4.0   \n",
      "4                     5.0                  3.0                 4.0   \n",
      "...                   ...                  ...                 ...   \n",
      "5467                  3.0                  1.0                 9.0   \n",
      "5468                  3.0                  1.0                 9.0   \n",
      "5469                  3.0                  1.0                 9.0   \n",
      "5470                  0.0                  0.0                 0.0   \n",
      "5471                  0.0                  0.0                 0.0   \n",
      "\n",
      "     reviews_per_score_4 reviews_per_score_5  reviews_per_score  \n",
      "0                   23.0               112.0                NaN  \n",
      "1                   23.0               112.0                NaN  \n",
      "2                   23.0               112.0                NaN  \n",
      "3                   23.0               112.0                NaN  \n",
      "4                   23.0               112.0                NaN  \n",
      "...                  ...                 ...                ...  \n",
      "5467                 9.0               108.0                NaN  \n",
      "5468                 9.0               108.0                NaN  \n",
      "5469                 9.0               108.0                NaN  \n",
      "5470                 0.0                 2.0                NaN  \n",
      "5471                 0.0                 2.0                NaN  \n",
      "\n",
      "[5472 rows x 36 columns]\n"
     ]
    }
   ],
   "source": [
    "\n",
    "import pandas as pd\n",
    "df = pd.read_csv('Outscraper-20240403163526906a_pontificia_universidad_católica_del_ecuador.csv', delimiter=',')\n",
    "print(df)\n"
   ]
  },
  {
   "cell_type": "markdown",
   "metadata": {},
   "source": [
    "Contamos cuantos datos tiene este dataset"
   ]
  },
  {
   "cell_type": "code",
   "execution_count": 38,
   "metadata": {
    "colab": {
     "base_uri": "https://localhost:8080/"
    },
    "id": "a787KXcL0yqJ",
    "outputId": "04619b2d-fc67-45fe-d58c-888cb3b65647"
   },
   "outputs": [
    {
     "data": {
      "text/plain": [
       "5472"
      ]
     },
     "execution_count": 38,
     "metadata": {},
     "output_type": "execute_result"
    }
   ],
   "source": [
    "df.shape[0]"
   ]
  },
  {
   "cell_type": "markdown",
   "metadata": {},
   "source": [
    "Ahora comprobemos que columnas nos dio este df"
   ]
  },
  {
   "cell_type": "code",
   "execution_count": 39,
   "metadata": {},
   "outputs": [
    {
     "name": "stdout",
     "output_type": "stream",
     "text": [
      "<class 'pandas.core.frame.DataFrame'>\n",
      "RangeIndex: 5472 entries, 0 to 5471\n",
      "Data columns (total 36 columns):\n",
      " #   Column                               Non-Null Count  Dtype  \n",
      "---  ------                               --------------  -----  \n",
      " 0   query                                5472 non-null   object \n",
      " 1   name                                 5472 non-null   object \n",
      " 2   google_id                            5472 non-null   object \n",
      " 3   place_id                             5472 non-null   object \n",
      " 4   location_link                        5472 non-null   object \n",
      " 5   reviews_link                         5470 non-null   object \n",
      " 6   reviews                              5470 non-null   float64\n",
      " 7   rating                               5470 non-null   float64\n",
      " 8   review_id                            5472 non-null   object \n",
      " 9   review_pagination_id                 5458 non-null   object \n",
      " 10  author_link                          5470 non-null   object \n",
      " 11  author_title                         5470 non-null   object \n",
      " 12  author_id                            5470 non-null   object \n",
      " 13  author_image                         5470 non-null   object \n",
      " 14  author_reviews_count                 5470 non-null   float64\n",
      " 15  author_ratings_count                 5470 non-null   float64\n",
      " 16  review_text                          1520 non-null   object \n",
      " 17  review_img_urls                      125 non-null    object \n",
      " 18  review_img_url                       125 non-null    object \n",
      " 19  review_questions                     0 non-null      float64\n",
      " 20  review_photo_ids                     125 non-null    object \n",
      " 21  owner_answer                         451 non-null    object \n",
      " 22  owner_answer_timestamp               451 non-null    float64\n",
      " 23  owner_answer_timestamp_datetime_utc  451 non-null    object \n",
      " 24  review_link                          5470 non-null   object \n",
      " 25  review_rating                        5470 non-null   float64\n",
      " 26  review_timestamp                     5470 non-null   float64\n",
      " 27  review_datetime_utc                  5470 non-null   object \n",
      " 28  review_likes                         5470 non-null   float64\n",
      " 29  reviews_id                           5460 non-null   float64\n",
      " 30  reviews_per_score_1                  5470 non-null   float64\n",
      " 31  reviews_per_score_2                  5470 non-null   float64\n",
      " 32  reviews_per_score_3                  5470 non-null   float64\n",
      " 33  reviews_per_score_4                  5470 non-null   float64\n",
      " 34  reviews_per_score_5                  5470 non-null   float64\n",
      " 35  reviews_per_score                    0 non-null      float64\n",
      "dtypes: float64(16), object(20)\n",
      "memory usage: 1.5+ MB\n"
     ]
    }
   ],
   "source": [
    "df.info()"
   ]
  },
  {
   "cell_type": "markdown",
   "metadata": {},
   "source": [
    "Para este trabajo la unica columna que necesitaremos usar será la de review_text, por lo cual vamos a trabajar con ella"
   ]
  },
  {
   "cell_type": "markdown",
   "metadata": {},
   "source": [
    "Primero vamos a comprobar que en esta columna no se tenga datos nulos"
   ]
  },
  {
   "cell_type": "code",
   "execution_count": 40,
   "metadata": {
    "id": "oE00ChQcu_N0"
   },
   "outputs": [],
   "source": [
    "#elimina filas en las que la columna \"review_text\" no tenga nada\n",
    "\n",
    "df = df[df['review_text'].notnull()]\n"
   ]
  },
  {
   "cell_type": "markdown",
   "metadata": {},
   "source": [
    "Eliminando filas que tengan comentarios nulos, nos quedamos con 1520 registros restantes"
   ]
  },
  {
   "cell_type": "code",
   "execution_count": 41,
   "metadata": {
    "colab": {
     "base_uri": "https://localhost:8080/"
    },
    "id": "FIBWy_o_01rR",
    "outputId": "85c30fea-1ad2-49bd-83f2-b696078120c1"
   },
   "outputs": [
    {
     "data": {
      "text/plain": [
       "1520"
      ]
     },
     "execution_count": 41,
     "metadata": {},
     "output_type": "execute_result"
    }
   ],
   "source": [
    "df.shape[0]"
   ]
  },
  {
   "cell_type": "code",
   "execution_count": 42,
   "metadata": {
    "colab": {
     "base_uri": "https://localhost:8080/",
     "height": 603
    },
    "id": "R9kih1MZo1VA",
    "outputId": "78c16d80-fe84-4a69-f42e-2ec34e63eb12"
   },
   "outputs": [
    {
     "data": {
      "text/html": [
       "<div>\n",
       "<style scoped>\n",
       "    .dataframe tbody tr th:only-of-type {\n",
       "        vertical-align: middle;\n",
       "    }\n",
       "\n",
       "    .dataframe tbody tr th {\n",
       "        vertical-align: top;\n",
       "    }\n",
       "\n",
       "    .dataframe thead th {\n",
       "        text-align: right;\n",
       "    }\n",
       "</style>\n",
       "<table border=\"1\" class=\"dataframe\">\n",
       "  <thead>\n",
       "    <tr style=\"text-align: right;\">\n",
       "      <th></th>\n",
       "      <th>query</th>\n",
       "      <th>name</th>\n",
       "      <th>google_id</th>\n",
       "      <th>place_id</th>\n",
       "      <th>location_link</th>\n",
       "      <th>reviews_link</th>\n",
       "      <th>reviews</th>\n",
       "      <th>rating</th>\n",
       "      <th>review_id</th>\n",
       "      <th>review_pagination_id</th>\n",
       "      <th>...</th>\n",
       "      <th>review_timestamp</th>\n",
       "      <th>review_datetime_utc</th>\n",
       "      <th>review_likes</th>\n",
       "      <th>reviews_id</th>\n",
       "      <th>reviews_per_score_1</th>\n",
       "      <th>reviews_per_score_2</th>\n",
       "      <th>reviews_per_score_3</th>\n",
       "      <th>reviews_per_score_4</th>\n",
       "      <th>reviews_per_score_5</th>\n",
       "      <th>reviews_per_score</th>\n",
       "    </tr>\n",
       "  </thead>\n",
       "  <tbody>\n",
       "    <tr>\n",
       "      <th>0</th>\n",
       "      <td>Pontificia Universidad Católica del Ecuador, A...</td>\n",
       "      <td>Pontificia Universidad Católica del Ecuador - ...</td>\n",
       "      <td>0x91d3821742548deb:0xdb79fd4132b3563f</td>\n",
       "      <td>ChIJ641UQheC05ERP1azMkH9eds</td>\n",
       "      <td>https://www.google.com/maps/place/Pontificia+U...</td>\n",
       "      <td>https://search.google.com/local/reviews?placei...</td>\n",
       "      <td>147.0</td>\n",
       "      <td>4.6</td>\n",
       "      <td>ChdDSUhNMG9nS0VJQ0FnSURVMm9lcDJ3RRAB</td>\n",
       "      <td>CAESBkVnSUlBUQ==</td>\n",
       "      <td>...</td>\n",
       "      <td>1.566341e+09</td>\n",
       "      <td>08/20/2019 22:47:24</td>\n",
       "      <td>5.0</td>\n",
       "      <td>-2.631794e+18</td>\n",
       "      <td>5.0</td>\n",
       "      <td>3.0</td>\n",
       "      <td>4.0</td>\n",
       "      <td>23.0</td>\n",
       "      <td>112.0</td>\n",
       "      <td>NaN</td>\n",
       "    </tr>\n",
       "    <tr>\n",
       "      <th>1</th>\n",
       "      <td>Pontificia Universidad Católica del Ecuador, A...</td>\n",
       "      <td>Pontificia Universidad Católica del Ecuador - ...</td>\n",
       "      <td>0x91d3821742548deb:0xdb79fd4132b3563f</td>\n",
       "      <td>ChIJ641UQheC05ERP1azMkH9eds</td>\n",
       "      <td>https://www.google.com/maps/place/Pontificia+U...</td>\n",
       "      <td>https://search.google.com/local/reviews?placei...</td>\n",
       "      <td>147.0</td>\n",
       "      <td>4.6</td>\n",
       "      <td>ChdDSUhNMG9nS0VJQ0FnSUMyem8tdjB3RRAB</td>\n",
       "      <td>CAESBkVnSUlBZw==</td>\n",
       "      <td>...</td>\n",
       "      <td>1.677287e+09</td>\n",
       "      <td>02/25/2023 00:59:49</td>\n",
       "      <td>0.0</td>\n",
       "      <td>-2.631794e+18</td>\n",
       "      <td>5.0</td>\n",
       "      <td>3.0</td>\n",
       "      <td>4.0</td>\n",
       "      <td>23.0</td>\n",
       "      <td>112.0</td>\n",
       "      <td>NaN</td>\n",
       "    </tr>\n",
       "    <tr>\n",
       "      <th>2</th>\n",
       "      <td>Pontificia Universidad Católica del Ecuador, A...</td>\n",
       "      <td>Pontificia Universidad Católica del Ecuador - ...</td>\n",
       "      <td>0x91d3821742548deb:0xdb79fd4132b3563f</td>\n",
       "      <td>ChIJ641UQheC05ERP1azMkH9eds</td>\n",
       "      <td>https://www.google.com/maps/place/Pontificia+U...</td>\n",
       "      <td>https://search.google.com/local/reviews?placei...</td>\n",
       "      <td>147.0</td>\n",
       "      <td>4.6</td>\n",
       "      <td>ChZDSUhNMG9nS0VJQ0FnSUR3akkyQkxREAE</td>\n",
       "      <td>CAESBkVnSUlBdw==</td>\n",
       "      <td>...</td>\n",
       "      <td>1.540496e+09</td>\n",
       "      <td>10/25/2018 19:37:28</td>\n",
       "      <td>0.0</td>\n",
       "      <td>-2.631794e+18</td>\n",
       "      <td>5.0</td>\n",
       "      <td>3.0</td>\n",
       "      <td>4.0</td>\n",
       "      <td>23.0</td>\n",
       "      <td>112.0</td>\n",
       "      <td>NaN</td>\n",
       "    </tr>\n",
       "    <tr>\n",
       "      <th>3</th>\n",
       "      <td>Pontificia Universidad Católica del Ecuador, A...</td>\n",
       "      <td>Pontificia Universidad Católica del Ecuador - ...</td>\n",
       "      <td>0x91d3821742548deb:0xdb79fd4132b3563f</td>\n",
       "      <td>ChIJ641UQheC05ERP1azMkH9eds</td>\n",
       "      <td>https://www.google.com/maps/place/Pontificia+U...</td>\n",
       "      <td>https://search.google.com/local/reviews?placei...</td>\n",
       "      <td>147.0</td>\n",
       "      <td>4.6</td>\n",
       "      <td>ChdDSUhNMG9nS0VJQ0FnSUNTaUtqZV9nRRAB</td>\n",
       "      <td>CAESBkVnSUlCQQ==</td>\n",
       "      <td>...</td>\n",
       "      <td>1.623848e+09</td>\n",
       "      <td>06/16/2021 12:51:58</td>\n",
       "      <td>0.0</td>\n",
       "      <td>-2.631794e+18</td>\n",
       "      <td>5.0</td>\n",
       "      <td>3.0</td>\n",
       "      <td>4.0</td>\n",
       "      <td>23.0</td>\n",
       "      <td>112.0</td>\n",
       "      <td>NaN</td>\n",
       "    </tr>\n",
       "    <tr>\n",
       "      <th>4</th>\n",
       "      <td>Pontificia Universidad Católica del Ecuador, A...</td>\n",
       "      <td>Pontificia Universidad Católica del Ecuador - ...</td>\n",
       "      <td>0x91d3821742548deb:0xdb79fd4132b3563f</td>\n",
       "      <td>ChIJ641UQheC05ERP1azMkH9eds</td>\n",
       "      <td>https://www.google.com/maps/place/Pontificia+U...</td>\n",
       "      <td>https://search.google.com/local/reviews?placei...</td>\n",
       "      <td>147.0</td>\n",
       "      <td>4.6</td>\n",
       "      <td>ChdDSUhNMG9nS0VJQ0FnSUNlcDRLNXVRRRAB</td>\n",
       "      <td>CAESBkVnSUlCUQ==</td>\n",
       "      <td>...</td>\n",
       "      <td>1.675256e+09</td>\n",
       "      <td>02/01/2023 12:45:38</td>\n",
       "      <td>0.0</td>\n",
       "      <td>-2.631794e+18</td>\n",
       "      <td>5.0</td>\n",
       "      <td>3.0</td>\n",
       "      <td>4.0</td>\n",
       "      <td>23.0</td>\n",
       "      <td>112.0</td>\n",
       "      <td>NaN</td>\n",
       "    </tr>\n",
       "  </tbody>\n",
       "</table>\n",
       "<p>5 rows × 36 columns</p>\n",
       "</div>"
      ],
      "text/plain": [
       "                                               query  \\\n",
       "0  Pontificia Universidad Católica del Ecuador, A...   \n",
       "1  Pontificia Universidad Católica del Ecuador, A...   \n",
       "2  Pontificia Universidad Católica del Ecuador, A...   \n",
       "3  Pontificia Universidad Católica del Ecuador, A...   \n",
       "4  Pontificia Universidad Católica del Ecuador, A...   \n",
       "\n",
       "                                                name  \\\n",
       "0  Pontificia Universidad Católica del Ecuador - ...   \n",
       "1  Pontificia Universidad Católica del Ecuador - ...   \n",
       "2  Pontificia Universidad Católica del Ecuador - ...   \n",
       "3  Pontificia Universidad Católica del Ecuador - ...   \n",
       "4  Pontificia Universidad Católica del Ecuador - ...   \n",
       "\n",
       "                               google_id                     place_id  \\\n",
       "0  0x91d3821742548deb:0xdb79fd4132b3563f  ChIJ641UQheC05ERP1azMkH9eds   \n",
       "1  0x91d3821742548deb:0xdb79fd4132b3563f  ChIJ641UQheC05ERP1azMkH9eds   \n",
       "2  0x91d3821742548deb:0xdb79fd4132b3563f  ChIJ641UQheC05ERP1azMkH9eds   \n",
       "3  0x91d3821742548deb:0xdb79fd4132b3563f  ChIJ641UQheC05ERP1azMkH9eds   \n",
       "4  0x91d3821742548deb:0xdb79fd4132b3563f  ChIJ641UQheC05ERP1azMkH9eds   \n",
       "\n",
       "                                       location_link  \\\n",
       "0  https://www.google.com/maps/place/Pontificia+U...   \n",
       "1  https://www.google.com/maps/place/Pontificia+U...   \n",
       "2  https://www.google.com/maps/place/Pontificia+U...   \n",
       "3  https://www.google.com/maps/place/Pontificia+U...   \n",
       "4  https://www.google.com/maps/place/Pontificia+U...   \n",
       "\n",
       "                                        reviews_link  reviews  rating  \\\n",
       "0  https://search.google.com/local/reviews?placei...    147.0     4.6   \n",
       "1  https://search.google.com/local/reviews?placei...    147.0     4.6   \n",
       "2  https://search.google.com/local/reviews?placei...    147.0     4.6   \n",
       "3  https://search.google.com/local/reviews?placei...    147.0     4.6   \n",
       "4  https://search.google.com/local/reviews?placei...    147.0     4.6   \n",
       "\n",
       "                              review_id review_pagination_id  ...  \\\n",
       "0  ChdDSUhNMG9nS0VJQ0FnSURVMm9lcDJ3RRAB     CAESBkVnSUlBUQ==  ...   \n",
       "1  ChdDSUhNMG9nS0VJQ0FnSUMyem8tdjB3RRAB     CAESBkVnSUlBZw==  ...   \n",
       "2   ChZDSUhNMG9nS0VJQ0FnSUR3akkyQkxREAE     CAESBkVnSUlBdw==  ...   \n",
       "3  ChdDSUhNMG9nS0VJQ0FnSUNTaUtqZV9nRRAB     CAESBkVnSUlCQQ==  ...   \n",
       "4  ChdDSUhNMG9nS0VJQ0FnSUNlcDRLNXVRRRAB     CAESBkVnSUlCUQ==  ...   \n",
       "\n",
       "  review_timestamp  review_datetime_utc review_likes    reviews_id  \\\n",
       "0     1.566341e+09  08/20/2019 22:47:24          5.0 -2.631794e+18   \n",
       "1     1.677287e+09  02/25/2023 00:59:49          0.0 -2.631794e+18   \n",
       "2     1.540496e+09  10/25/2018 19:37:28          0.0 -2.631794e+18   \n",
       "3     1.623848e+09  06/16/2021 12:51:58          0.0 -2.631794e+18   \n",
       "4     1.675256e+09  02/01/2023 12:45:38          0.0 -2.631794e+18   \n",
       "\n",
       "   reviews_per_score_1  reviews_per_score_2 reviews_per_score_3  \\\n",
       "0                  5.0                  3.0                 4.0   \n",
       "1                  5.0                  3.0                 4.0   \n",
       "2                  5.0                  3.0                 4.0   \n",
       "3                  5.0                  3.0                 4.0   \n",
       "4                  5.0                  3.0                 4.0   \n",
       "\n",
       "  reviews_per_score_4 reviews_per_score_5  reviews_per_score  \n",
       "0                23.0               112.0                NaN  \n",
       "1                23.0               112.0                NaN  \n",
       "2                23.0               112.0                NaN  \n",
       "3                23.0               112.0                NaN  \n",
       "4                23.0               112.0                NaN  \n",
       "\n",
       "[5 rows x 36 columns]"
      ]
     },
     "execution_count": 42,
     "metadata": {},
     "output_type": "execute_result"
    }
   ],
   "source": [
    "df.head()"
   ]
  },
  {
   "cell_type": "markdown",
   "metadata": {},
   "source": [
    "Ahora crearemos un df unicamente con la columna de review_text"
   ]
  },
  {
   "cell_type": "code",
   "execution_count": 43,
   "metadata": {
    "id": "q2WPOw3LpOGV"
   },
   "outputs": [],
   "source": [
    "\n",
    "df_texto = df['review_text']\n"
   ]
  },
  {
   "cell_type": "code",
   "execution_count": 44,
   "metadata": {
    "colab": {
     "base_uri": "https://localhost:8080/"
    },
    "id": "BXW4lOaIpeYJ",
    "outputId": "d3f5dd31-a971-4b90-d171-30e9012e3803"
   },
   "outputs": [
    {
     "data": {
      "text/plain": [
       "1520"
      ]
     },
     "execution_count": 44,
     "metadata": {},
     "output_type": "execute_result"
    }
   ],
   "source": [
    "df_texto.count()"
   ]
  },
  {
   "cell_type": "markdown",
   "metadata": {},
   "source": [
    "Al hacer el scrapping de las reviews en la sede Quito de la universidad obtuvimos 1520 datos, por lo tanto se trabajo con el resto de sedes utilizando la API de Google Maps Reviews Scrapper"
   ]
  },
  {
   "cell_type": "markdown",
   "metadata": {},
   "source": [
    "### Ahora leemos el archivo csv generado por la API de las demas sedes de la PUCE"
   ]
  },
  {
   "cell_type": "code",
   "execution_count": 45,
   "metadata": {
    "colab": {
     "base_uri": "https://localhost:8080/"
    },
    "id": "ebkfn6OIPX9X",
    "outputId": "a30d5b37-cc9b-425a-897c-b5636cdd5d2a"
   },
   "outputs": [
    {
     "name": "stdout",
     "output_type": "stream",
     "text": [
      "                                                  query  \\\n",
      "0     Pontificia Universidad Católica del Ecuador, A...   \n",
      "1     Pontificia Universidad Católica del Ecuador, A...   \n",
      "2     Pontificia Universidad Católica del Ecuador, A...   \n",
      "3     Pontificia Universidad Católica del Ecuador, A...   \n",
      "4     Pontificia Universidad Católica del Ecuador, A...   \n",
      "...                                                 ...   \n",
      "5379  Pontificia Universidad Católica del Ecuador, S...   \n",
      "5380  Pontificia Universidad Católica del Ecuador, S...   \n",
      "5383  Pontificia Universidad Católica del Ecuador, S...   \n",
      "5384  Pontificia Universidad Católica del Ecuador, S...   \n",
      "5470  Pontificia Universidad Católica del Ecuador, T...   \n",
      "\n",
      "                                                   name  \\\n",
      "0     Pontificia Universidad Católica del Ecuador - ...   \n",
      "1     Pontificia Universidad Católica del Ecuador - ...   \n",
      "2     Pontificia Universidad Católica del Ecuador - ...   \n",
      "3     Pontificia Universidad Católica del Ecuador - ...   \n",
      "4     Pontificia Universidad Católica del Ecuador - ...   \n",
      "...                                                 ...   \n",
      "5379  Pontificia Universidad Católica del Ecuador Se...   \n",
      "5380  Pontificia Universidad Católica del Ecuador Se...   \n",
      "5383  Pontificia Universidad Católica del Ecuador Se...   \n",
      "5384  Pontificia Universidad Católica del Ecuador Se...   \n",
      "5470        Pontificia Universidad Catolica del Ecuador   \n",
      "\n",
      "                                  google_id                     place_id  \\\n",
      "0     0x91d3821742548deb:0xdb79fd4132b3563f  ChIJ641UQheC05ERP1azMkH9eds   \n",
      "1     0x91d3821742548deb:0xdb79fd4132b3563f  ChIJ641UQheC05ERP1azMkH9eds   \n",
      "2     0x91d3821742548deb:0xdb79fd4132b3563f  ChIJ641UQheC05ERP1azMkH9eds   \n",
      "3     0x91d3821742548deb:0xdb79fd4132b3563f  ChIJ641UQheC05ERP1azMkH9eds   \n",
      "4     0x91d3821742548deb:0xdb79fd4132b3563f  ChIJ641UQheC05ERP1azMkH9eds   \n",
      "...                                     ...                          ...   \n",
      "5379  0x902bed5a4e74088d:0xf0a208510f380374  ChIJjQh0TlrtK5ARdAM4D1EIovA   \n",
      "5380  0x902bed5a4e74088d:0xf0a208510f380374  ChIJjQh0TlrtK5ARdAM4D1EIovA   \n",
      "5383  0x902bed5a4e74088d:0xf0a208510f380374  ChIJjQh0TlrtK5ARdAM4D1EIovA   \n",
      "5384  0x902bed5a4e74088d:0xf0a208510f380374  ChIJjQh0TlrtK5ARdAM4D1EIovA   \n",
      "5470  0x91d59a10cfb62fbf:0x3e3dcee6ed2412c6  ChIJvy-2zxCa1ZERxhIk7ebOPT4   \n",
      "\n",
      "                                          location_link  \\\n",
      "0     https://www.google.com/maps/place/Pontificia+U...   \n",
      "1     https://www.google.com/maps/place/Pontificia+U...   \n",
      "2     https://www.google.com/maps/place/Pontificia+U...   \n",
      "3     https://www.google.com/maps/place/Pontificia+U...   \n",
      "4     https://www.google.com/maps/place/Pontificia+U...   \n",
      "...                                                 ...   \n",
      "5379  https://www.google.com/maps/place/Pontificia+U...   \n",
      "5380  https://www.google.com/maps/place/Pontificia+U...   \n",
      "5383  https://www.google.com/maps/place/Pontificia+U...   \n",
      "5384  https://www.google.com/maps/place/Pontificia+U...   \n",
      "5470  https://www.google.com/maps/place/Pontificia+U...   \n",
      "\n",
      "                                           reviews_link  reviews  rating  \\\n",
      "0     https://search.google.com/local/reviews?placei...    147.0     4.6   \n",
      "1     https://search.google.com/local/reviews?placei...    147.0     4.6   \n",
      "2     https://search.google.com/local/reviews?placei...    147.0     4.6   \n",
      "3     https://search.google.com/local/reviews?placei...    147.0     4.6   \n",
      "4     https://search.google.com/local/reviews?placei...    147.0     4.6   \n",
      "...                                                 ...      ...     ...   \n",
      "5379  https://search.google.com/local/reviews?placei...    130.0     4.7   \n",
      "5380  https://search.google.com/local/reviews?placei...    130.0     4.7   \n",
      "5383  https://search.google.com/local/reviews?placei...    130.0     4.7   \n",
      "5384  https://search.google.com/local/reviews?placei...    130.0     4.7   \n",
      "5470  https://search.google.com/local/reviews?placei...      2.0     5.0   \n",
      "\n",
      "                                 review_id review_pagination_id  ...  \\\n",
      "0     ChdDSUhNMG9nS0VJQ0FnSURVMm9lcDJ3RRAB     CAESBkVnSUlBUQ==  ...   \n",
      "1     ChdDSUhNMG9nS0VJQ0FnSUMyem8tdjB3RRAB     CAESBkVnSUlBZw==  ...   \n",
      "2      ChZDSUhNMG9nS0VJQ0FnSUR3akkyQkxREAE     CAESBkVnSUlBdw==  ...   \n",
      "3     ChdDSUhNMG9nS0VJQ0FnSUNTaUtqZV9nRRAB     CAESBkVnSUlCQQ==  ...   \n",
      "4     ChdDSUhNMG9nS0VJQ0FnSUNlcDRLNXVRRRAB     CAESBkVnSUlCUQ==  ...   \n",
      "...                                    ...                  ...  ...   \n",
      "5379   ChZDSUhNMG9nS0VJQ0FnSUNZNW9xT1FnEAE     CAESBkVnSUlLQQ==  ...   \n",
      "5380  ChdDSUhNMG9nS0VJQ0FnSUNKaTdYeHVBRRAB     CAESBkVnSUlLUQ==  ...   \n",
      "5383   ChZDSUhNMG9nS0VJQ0FnSUNhcW9HaWZBEAE     CAESBkVnSUlMQQ==  ...   \n",
      "5384   ChZDSUhNMG9nS0VJQ0FnSUQwcXJTS0dBEAE     CAESBkVnSUlMUQ==  ...   \n",
      "5470  ChdDSUhNMG9nS0VJQ0FnSUNBX055VjB3RRAB     CAESBkVnSUlBUQ==  ...   \n",
      "\n",
      "     review_timestamp  review_datetime_utc review_likes    reviews_id  \\\n",
      "0        1.566341e+09  08/20/2019 22:47:24          5.0 -2.631794e+18   \n",
      "1        1.677287e+09  02/25/2023 00:59:49          0.0 -2.631794e+18   \n",
      "2        1.540496e+09  10/25/2018 19:37:28          0.0 -2.631794e+18   \n",
      "3        1.623848e+09  06/16/2021 12:51:58          0.0 -2.631794e+18   \n",
      "4        1.675256e+09  02/01/2023 12:45:38          0.0 -2.631794e+18   \n",
      "...               ...                  ...          ...           ...   \n",
      "5379     1.555022e+09  04/11/2019 22:34:09          2.0 -1.107313e+18   \n",
      "5380     1.688505e+09  07/04/2023 21:06:21          0.0 -1.107313e+18   \n",
      "5383     1.627483e+09  07/28/2021 14:40:47          0.0 -1.107313e+18   \n",
      "5384     1.572556e+09  10/31/2019 21:01:52          1.0 -1.107313e+18   \n",
      "5470     1.501082e+09  07/26/2017 15:11:49          0.0  4.484968e+18   \n",
      "\n",
      "      reviews_per_score_1  reviews_per_score_2 reviews_per_score_3  \\\n",
      "0                     5.0                  3.0                 4.0   \n",
      "1                     5.0                  3.0                 4.0   \n",
      "2                     5.0                  3.0                 4.0   \n",
      "3                     5.0                  3.0                 4.0   \n",
      "4                     5.0                  3.0                 4.0   \n",
      "...                   ...                  ...                 ...   \n",
      "5379                  3.0                  1.0                 9.0   \n",
      "5380                  3.0                  1.0                 9.0   \n",
      "5383                  3.0                  1.0                 9.0   \n",
      "5384                  3.0                  1.0                 9.0   \n",
      "5470                  0.0                  0.0                 0.0   \n",
      "\n",
      "     reviews_per_score_4 reviews_per_score_5  reviews_per_score  \n",
      "0                   23.0               112.0                NaN  \n",
      "1                   23.0               112.0                NaN  \n",
      "2                   23.0               112.0                NaN  \n",
      "3                   23.0               112.0                NaN  \n",
      "4                   23.0               112.0                NaN  \n",
      "...                  ...                 ...                ...  \n",
      "5379                 9.0               108.0                NaN  \n",
      "5380                 9.0               108.0                NaN  \n",
      "5383                 9.0               108.0                NaN  \n",
      "5384                 9.0               108.0                NaN  \n",
      "5470                 0.0                 2.0                NaN  \n",
      "\n",
      "[1520 rows x 36 columns]\n"
     ]
    }
   ],
   "source": [
    "import pandas as pd\n",
    "df1 = pd.read_csv('dataset_Google-Maps-Reviews-Scraper_2024-04-07_15-31-24-112.csv', delimiter=',')\n",
    "print(df)\n"
   ]
  },
  {
   "cell_type": "markdown",
   "metadata": {},
   "source": [
    "Ahora comprobaremos la cantidad de datos que contiene nuestro df"
   ]
  },
  {
   "cell_type": "code",
   "execution_count": 46,
   "metadata": {
    "colab": {
     "base_uri": "https://localhost:8080/"
    },
    "id": "A6IdyE2yPfLy",
    "outputId": "18cd83ca-8917-4b5a-c527-3f004de6ddbc"
   },
   "outputs": [
    {
     "data": {
      "text/plain": [
       "1917"
      ]
     },
     "execution_count": 46,
     "metadata": {},
     "output_type": "execute_result"
    }
   ],
   "source": [
    "df1.shape[0]"
   ]
  },
  {
   "cell_type": "code",
   "execution_count": 47,
   "metadata": {
    "colab": {
     "base_uri": "https://localhost:8080/",
     "height": 551
    },
    "id": "IBFdrDcXPt_D",
    "outputId": "a679aa0a-f022-4032-e6cf-feba9c393c54"
   },
   "outputs": [
    {
     "data": {
      "text/html": [
       "<div>\n",
       "<style scoped>\n",
       "    .dataframe tbody tr th:only-of-type {\n",
       "        vertical-align: middle;\n",
       "    }\n",
       "\n",
       "    .dataframe tbody tr th {\n",
       "        vertical-align: top;\n",
       "    }\n",
       "\n",
       "    .dataframe thead th {\n",
       "        text-align: right;\n",
       "    }\n",
       "</style>\n",
       "<table border=\"1\" class=\"dataframe\">\n",
       "  <thead>\n",
       "    <tr style=\"text-align: right;\">\n",
       "      <th></th>\n",
       "      <th>additionalInfo/Accesibilidad/0/Entrada accesible para personas en silla de ruedas</th>\n",
       "      <th>additionalInfo/Accesibilidad/1/Estacionamiento accesible para personas en silla de ruedas</th>\n",
       "      <th>address</th>\n",
       "      <th>categories/0</th>\n",
       "      <th>categories/1</th>\n",
       "      <th>categories/2</th>\n",
       "      <th>categories/3</th>\n",
       "      <th>categoryName</th>\n",
       "      <th>checkInDate</th>\n",
       "      <th>checkOutDate</th>\n",
       "      <th>...</th>\n",
       "      <th>title</th>\n",
       "      <th>totalScore</th>\n",
       "      <th>updatesFromCustomers</th>\n",
       "      <th>updatesFromCustomers/postDate</th>\n",
       "      <th>updatesFromCustomers/postedBy/name</th>\n",
       "      <th>updatesFromCustomers/postedBy/title</th>\n",
       "      <th>updatesFromCustomers/postedBy/totalReviews</th>\n",
       "      <th>updatesFromCustomers/postedBy/url</th>\n",
       "      <th>url</th>\n",
       "      <th>website</th>\n",
       "    </tr>\n",
       "  </thead>\n",
       "  <tbody>\n",
       "    <tr>\n",
       "      <th>0</th>\n",
       "      <td>True</td>\n",
       "      <td>True</td>\n",
       "      <td>Esmeraldas, Ecuador</td>\n",
       "      <td>Universidad privada</td>\n",
       "      <td>NaN</td>\n",
       "      <td>NaN</td>\n",
       "      <td>NaN</td>\n",
       "      <td>Universidad privada</td>\n",
       "      <td>NaN</td>\n",
       "      <td>NaN</td>\n",
       "      <td>...</td>\n",
       "      <td>Pontificia Universidad Católica del Ecuador - ...</td>\n",
       "      <td>4.3</td>\n",
       "      <td>NaN</td>\n",
       "      <td>NaN</td>\n",
       "      <td>NaN</td>\n",
       "      <td>NaN</td>\n",
       "      <td>NaN</td>\n",
       "      <td>NaN</td>\n",
       "      <td>https://www.google.com/maps/search/?api=1&amp;quer...</td>\n",
       "      <td>http://www.pucese.edu.ec/</td>\n",
       "    </tr>\n",
       "    <tr>\n",
       "      <th>1</th>\n",
       "      <td>True</td>\n",
       "      <td>True</td>\n",
       "      <td>Esmeraldas, Ecuador</td>\n",
       "      <td>Universidad privada</td>\n",
       "      <td>NaN</td>\n",
       "      <td>NaN</td>\n",
       "      <td>NaN</td>\n",
       "      <td>Universidad privada</td>\n",
       "      <td>NaN</td>\n",
       "      <td>NaN</td>\n",
       "      <td>...</td>\n",
       "      <td>Pontificia Universidad Católica del Ecuador - ...</td>\n",
       "      <td>4.3</td>\n",
       "      <td>NaN</td>\n",
       "      <td>NaN</td>\n",
       "      <td>NaN</td>\n",
       "      <td>NaN</td>\n",
       "      <td>NaN</td>\n",
       "      <td>NaN</td>\n",
       "      <td>https://www.google.com/maps/search/?api=1&amp;quer...</td>\n",
       "      <td>http://www.pucese.edu.ec/</td>\n",
       "    </tr>\n",
       "    <tr>\n",
       "      <th>2</th>\n",
       "      <td>True</td>\n",
       "      <td>True</td>\n",
       "      <td>Esmeraldas, Ecuador</td>\n",
       "      <td>Universidad privada</td>\n",
       "      <td>NaN</td>\n",
       "      <td>NaN</td>\n",
       "      <td>NaN</td>\n",
       "      <td>Universidad privada</td>\n",
       "      <td>NaN</td>\n",
       "      <td>NaN</td>\n",
       "      <td>...</td>\n",
       "      <td>Pontificia Universidad Católica del Ecuador - ...</td>\n",
       "      <td>4.3</td>\n",
       "      <td>NaN</td>\n",
       "      <td>NaN</td>\n",
       "      <td>NaN</td>\n",
       "      <td>NaN</td>\n",
       "      <td>NaN</td>\n",
       "      <td>NaN</td>\n",
       "      <td>https://www.google.com/maps/search/?api=1&amp;quer...</td>\n",
       "      <td>http://www.pucese.edu.ec/</td>\n",
       "    </tr>\n",
       "    <tr>\n",
       "      <th>3</th>\n",
       "      <td>True</td>\n",
       "      <td>True</td>\n",
       "      <td>Esmeraldas, Ecuador</td>\n",
       "      <td>Universidad privada</td>\n",
       "      <td>NaN</td>\n",
       "      <td>NaN</td>\n",
       "      <td>NaN</td>\n",
       "      <td>Universidad privada</td>\n",
       "      <td>NaN</td>\n",
       "      <td>NaN</td>\n",
       "      <td>...</td>\n",
       "      <td>Pontificia Universidad Católica del Ecuador - ...</td>\n",
       "      <td>4.3</td>\n",
       "      <td>NaN</td>\n",
       "      <td>NaN</td>\n",
       "      <td>NaN</td>\n",
       "      <td>NaN</td>\n",
       "      <td>NaN</td>\n",
       "      <td>NaN</td>\n",
       "      <td>https://www.google.com/maps/search/?api=1&amp;quer...</td>\n",
       "      <td>http://www.pucese.edu.ec/</td>\n",
       "    </tr>\n",
       "    <tr>\n",
       "      <th>4</th>\n",
       "      <td>True</td>\n",
       "      <td>True</td>\n",
       "      <td>Esmeraldas, Ecuador</td>\n",
       "      <td>Universidad privada</td>\n",
       "      <td>NaN</td>\n",
       "      <td>NaN</td>\n",
       "      <td>NaN</td>\n",
       "      <td>Universidad privada</td>\n",
       "      <td>NaN</td>\n",
       "      <td>NaN</td>\n",
       "      <td>...</td>\n",
       "      <td>Pontificia Universidad Católica del Ecuador - ...</td>\n",
       "      <td>4.3</td>\n",
       "      <td>NaN</td>\n",
       "      <td>NaN</td>\n",
       "      <td>NaN</td>\n",
       "      <td>NaN</td>\n",
       "      <td>NaN</td>\n",
       "      <td>NaN</td>\n",
       "      <td>https://www.google.com/maps/search/?api=1&amp;quer...</td>\n",
       "      <td>http://www.pucese.edu.ec/</td>\n",
       "    </tr>\n",
       "  </tbody>\n",
       "</table>\n",
       "<p>5 rows × 169 columns</p>\n",
       "</div>"
      ],
      "text/plain": [
       "   additionalInfo/Accesibilidad/0/Entrada accesible para personas en silla de ruedas  \\\n",
       "0                                               True                                   \n",
       "1                                               True                                   \n",
       "2                                               True                                   \n",
       "3                                               True                                   \n",
       "4                                               True                                   \n",
       "\n",
       "   additionalInfo/Accesibilidad/1/Estacionamiento accesible para personas en silla de ruedas  \\\n",
       "0                                               True                                           \n",
       "1                                               True                                           \n",
       "2                                               True                                           \n",
       "3                                               True                                           \n",
       "4                                               True                                           \n",
       "\n",
       "               address         categories/0 categories/1 categories/2  \\\n",
       "0  Esmeraldas, Ecuador  Universidad privada          NaN          NaN   \n",
       "1  Esmeraldas, Ecuador  Universidad privada          NaN          NaN   \n",
       "2  Esmeraldas, Ecuador  Universidad privada          NaN          NaN   \n",
       "3  Esmeraldas, Ecuador  Universidad privada          NaN          NaN   \n",
       "4  Esmeraldas, Ecuador  Universidad privada          NaN          NaN   \n",
       "\n",
       "  categories/3         categoryName  checkInDate  checkOutDate  ...  \\\n",
       "0          NaN  Universidad privada          NaN           NaN  ...   \n",
       "1          NaN  Universidad privada          NaN           NaN  ...   \n",
       "2          NaN  Universidad privada          NaN           NaN  ...   \n",
       "3          NaN  Universidad privada          NaN           NaN  ...   \n",
       "4          NaN  Universidad privada          NaN           NaN  ...   \n",
       "\n",
       "                                               title totalScore  \\\n",
       "0  Pontificia Universidad Católica del Ecuador - ...        4.3   \n",
       "1  Pontificia Universidad Católica del Ecuador - ...        4.3   \n",
       "2  Pontificia Universidad Católica del Ecuador - ...        4.3   \n",
       "3  Pontificia Universidad Católica del Ecuador - ...        4.3   \n",
       "4  Pontificia Universidad Católica del Ecuador - ...        4.3   \n",
       "\n",
       "   updatesFromCustomers updatesFromCustomers/postDate  \\\n",
       "0                   NaN                           NaN   \n",
       "1                   NaN                           NaN   \n",
       "2                   NaN                           NaN   \n",
       "3                   NaN                           NaN   \n",
       "4                   NaN                           NaN   \n",
       "\n",
       "   updatesFromCustomers/postedBy/name  updatesFromCustomers/postedBy/title  \\\n",
       "0                                 NaN                                  NaN   \n",
       "1                                 NaN                                  NaN   \n",
       "2                                 NaN                                  NaN   \n",
       "3                                 NaN                                  NaN   \n",
       "4                                 NaN                                  NaN   \n",
       "\n",
       "   updatesFromCustomers/postedBy/totalReviews  \\\n",
       "0                                         NaN   \n",
       "1                                         NaN   \n",
       "2                                         NaN   \n",
       "3                                         NaN   \n",
       "4                                         NaN   \n",
       "\n",
       "   updatesFromCustomers/postedBy/url  \\\n",
       "0                                NaN   \n",
       "1                                NaN   \n",
       "2                                NaN   \n",
       "3                                NaN   \n",
       "4                                NaN   \n",
       "\n",
       "                                                 url  \\\n",
       "0  https://www.google.com/maps/search/?api=1&quer...   \n",
       "1  https://www.google.com/maps/search/?api=1&quer...   \n",
       "2  https://www.google.com/maps/search/?api=1&quer...   \n",
       "3  https://www.google.com/maps/search/?api=1&quer...   \n",
       "4  https://www.google.com/maps/search/?api=1&quer...   \n",
       "\n",
       "                     website  \n",
       "0  http://www.pucese.edu.ec/  \n",
       "1  http://www.pucese.edu.ec/  \n",
       "2  http://www.pucese.edu.ec/  \n",
       "3  http://www.pucese.edu.ec/  \n",
       "4  http://www.pucese.edu.ec/  \n",
       "\n",
       "[5 rows x 169 columns]"
      ]
     },
     "execution_count": 47,
     "metadata": {},
     "output_type": "execute_result"
    }
   ],
   "source": [
    "df1.head()"
   ]
  },
  {
   "cell_type": "code",
   "execution_count": 48,
   "metadata": {},
   "outputs": [],
   "source": [
    "#elimina filas en las que la columna \"review_text\" no tenga nada\n",
    "\n",
    "df1 = df1[df1['text'].notnull()]"
   ]
  },
  {
   "cell_type": "code",
   "execution_count": 53,
   "metadata": {
    "colab": {
     "base_uri": "https://localhost:8080/"
    },
    "id": "0Gg_AJUhQEXu",
    "outputId": "fc14464a-926e-426c-d00c-bc845522d6b8"
   },
   "outputs": [
    {
     "data": {
      "text/plain": [
       "464"
      ]
     },
     "execution_count": 53,
     "metadata": {},
     "output_type": "execute_result"
    }
   ],
   "source": [
    "df_texto2.shape[0]"
   ]
  },
  {
   "cell_type": "markdown",
   "metadata": {},
   "source": [
    "Ahora crearemos un nuevo df unicamente con la columna que nos interesa que en este df se llama text"
   ]
  },
  {
   "cell_type": "code",
   "execution_count": 54,
   "metadata": {
    "id": "NzxDaiFBPqHV"
   },
   "outputs": [],
   "source": [
    "df_texto2 = df1['text']\n"
   ]
  },
  {
   "cell_type": "code",
   "execution_count": 55,
   "metadata": {
    "colab": {
     "base_uri": "https://localhost:8080/"
    },
    "id": "PQNuEItOSC-9",
    "outputId": "b63b5180-37e4-483b-fc87-c2d784e928cb"
   },
   "outputs": [
    {
     "data": {
      "text/plain": [
       "1       Excelente Universidad!!! La mejor aula magna!!!\n",
       "2                                  Lindas instalaciones\n",
       "3                                       Buena educación\n",
       "13                                       De las mejores\n",
       "16    Muy buena atención, además de buenas ofertas a...\n",
       "Name: text, dtype: object"
      ]
     },
     "execution_count": 55,
     "metadata": {},
     "output_type": "execute_result"
    }
   ],
   "source": [
    "df_texto2.head()"
   ]
  },
  {
   "cell_type": "code",
   "execution_count": 56,
   "metadata": {},
   "outputs": [
    {
     "data": {
      "text/plain": [
       "464"
      ]
     },
     "execution_count": 56,
     "metadata": {},
     "output_type": "execute_result"
    }
   ],
   "source": [
    "df_texto2.shape[0]"
   ]
  },
  {
   "cell_type": "markdown",
   "metadata": {},
   "source": [
    "Ahora procederemos a extraer todos estos comentarios en un solo archivo csv "
   ]
  },
  {
   "cell_type": "code",
   "execution_count": 57,
   "metadata": {
    "id": "GLMMHcIZRxVV"
   },
   "outputs": [],
   "source": [
    "\n",
    "import pandas as pd\n",
    "df_texto1 = df_texto.to_frame(name='texto')\n",
    "df_texto2 = df_texto2.to_frame(name='texto')\n",
    "df_final = pd.concat([df_texto1, df_texto2], ignore_index=True)\n",
    "df_final.to_csv('archivo_combinado.csv', index=False)\n"
   ]
  },
  {
   "cell_type": "code",
   "execution_count": 60,
   "metadata": {
    "id": "Ps8WMYYYWphd"
   },
   "outputs": [
    {
     "name": "stdout",
     "output_type": "stream",
     "text": [
      "                                                  query  \\\n",
      "0     Pontificia Universidad Católica del Ecuador, A...   \n",
      "1     Pontificia Universidad Católica del Ecuador, A...   \n",
      "2     Pontificia Universidad Católica del Ecuador, A...   \n",
      "3     Pontificia Universidad Católica del Ecuador, A...   \n",
      "4     Pontificia Universidad Católica del Ecuador, A...   \n",
      "...                                                 ...   \n",
      "5379  Pontificia Universidad Católica del Ecuador, S...   \n",
      "5380  Pontificia Universidad Católica del Ecuador, S...   \n",
      "5383  Pontificia Universidad Católica del Ecuador, S...   \n",
      "5384  Pontificia Universidad Católica del Ecuador, S...   \n",
      "5470  Pontificia Universidad Católica del Ecuador, T...   \n",
      "\n",
      "                                                   name  \\\n",
      "0     Pontificia Universidad Católica del Ecuador - ...   \n",
      "1     Pontificia Universidad Católica del Ecuador - ...   \n",
      "2     Pontificia Universidad Católica del Ecuador - ...   \n",
      "3     Pontificia Universidad Católica del Ecuador - ...   \n",
      "4     Pontificia Universidad Católica del Ecuador - ...   \n",
      "...                                                 ...   \n",
      "5379  Pontificia Universidad Católica del Ecuador Se...   \n",
      "5380  Pontificia Universidad Católica del Ecuador Se...   \n",
      "5383  Pontificia Universidad Católica del Ecuador Se...   \n",
      "5384  Pontificia Universidad Católica del Ecuador Se...   \n",
      "5470        Pontificia Universidad Catolica del Ecuador   \n",
      "\n",
      "                                  google_id                     place_id  \\\n",
      "0     0x91d3821742548deb:0xdb79fd4132b3563f  ChIJ641UQheC05ERP1azMkH9eds   \n",
      "1     0x91d3821742548deb:0xdb79fd4132b3563f  ChIJ641UQheC05ERP1azMkH9eds   \n",
      "2     0x91d3821742548deb:0xdb79fd4132b3563f  ChIJ641UQheC05ERP1azMkH9eds   \n",
      "3     0x91d3821742548deb:0xdb79fd4132b3563f  ChIJ641UQheC05ERP1azMkH9eds   \n",
      "4     0x91d3821742548deb:0xdb79fd4132b3563f  ChIJ641UQheC05ERP1azMkH9eds   \n",
      "...                                     ...                          ...   \n",
      "5379  0x902bed5a4e74088d:0xf0a208510f380374  ChIJjQh0TlrtK5ARdAM4D1EIovA   \n",
      "5380  0x902bed5a4e74088d:0xf0a208510f380374  ChIJjQh0TlrtK5ARdAM4D1EIovA   \n",
      "5383  0x902bed5a4e74088d:0xf0a208510f380374  ChIJjQh0TlrtK5ARdAM4D1EIovA   \n",
      "5384  0x902bed5a4e74088d:0xf0a208510f380374  ChIJjQh0TlrtK5ARdAM4D1EIovA   \n",
      "5470  0x91d59a10cfb62fbf:0x3e3dcee6ed2412c6  ChIJvy-2zxCa1ZERxhIk7ebOPT4   \n",
      "\n",
      "                                          location_link  \\\n",
      "0     https://www.google.com/maps/place/Pontificia+U...   \n",
      "1     https://www.google.com/maps/place/Pontificia+U...   \n",
      "2     https://www.google.com/maps/place/Pontificia+U...   \n",
      "3     https://www.google.com/maps/place/Pontificia+U...   \n",
      "4     https://www.google.com/maps/place/Pontificia+U...   \n",
      "...                                                 ...   \n",
      "5379  https://www.google.com/maps/place/Pontificia+U...   \n",
      "5380  https://www.google.com/maps/place/Pontificia+U...   \n",
      "5383  https://www.google.com/maps/place/Pontificia+U...   \n",
      "5384  https://www.google.com/maps/place/Pontificia+U...   \n",
      "5470  https://www.google.com/maps/place/Pontificia+U...   \n",
      "\n",
      "                                           reviews_link  reviews  rating  \\\n",
      "0     https://search.google.com/local/reviews?placei...    147.0     4.6   \n",
      "1     https://search.google.com/local/reviews?placei...    147.0     4.6   \n",
      "2     https://search.google.com/local/reviews?placei...    147.0     4.6   \n",
      "3     https://search.google.com/local/reviews?placei...    147.0     4.6   \n",
      "4     https://search.google.com/local/reviews?placei...    147.0     4.6   \n",
      "...                                                 ...      ...     ...   \n",
      "5379  https://search.google.com/local/reviews?placei...    130.0     4.7   \n",
      "5380  https://search.google.com/local/reviews?placei...    130.0     4.7   \n",
      "5383  https://search.google.com/local/reviews?placei...    130.0     4.7   \n",
      "5384  https://search.google.com/local/reviews?placei...    130.0     4.7   \n",
      "5470  https://search.google.com/local/reviews?placei...      2.0     5.0   \n",
      "\n",
      "                                 review_id review_pagination_id  ...  \\\n",
      "0     ChdDSUhNMG9nS0VJQ0FnSURVMm9lcDJ3RRAB     CAESBkVnSUlBUQ==  ...   \n",
      "1     ChdDSUhNMG9nS0VJQ0FnSUMyem8tdjB3RRAB     CAESBkVnSUlBZw==  ...   \n",
      "2      ChZDSUhNMG9nS0VJQ0FnSUR3akkyQkxREAE     CAESBkVnSUlBdw==  ...   \n",
      "3     ChdDSUhNMG9nS0VJQ0FnSUNTaUtqZV9nRRAB     CAESBkVnSUlCQQ==  ...   \n",
      "4     ChdDSUhNMG9nS0VJQ0FnSUNlcDRLNXVRRRAB     CAESBkVnSUlCUQ==  ...   \n",
      "...                                    ...                  ...  ...   \n",
      "5379   ChZDSUhNMG9nS0VJQ0FnSUNZNW9xT1FnEAE     CAESBkVnSUlLQQ==  ...   \n",
      "5380  ChdDSUhNMG9nS0VJQ0FnSUNKaTdYeHVBRRAB     CAESBkVnSUlLUQ==  ...   \n",
      "5383   ChZDSUhNMG9nS0VJQ0FnSUNhcW9HaWZBEAE     CAESBkVnSUlMQQ==  ...   \n",
      "5384   ChZDSUhNMG9nS0VJQ0FnSUQwcXJTS0dBEAE     CAESBkVnSUlMUQ==  ...   \n",
      "5470  ChdDSUhNMG9nS0VJQ0FnSUNBX055VjB3RRAB     CAESBkVnSUlBUQ==  ...   \n",
      "\n",
      "     review_timestamp  review_datetime_utc review_likes    reviews_id  \\\n",
      "0        1.566341e+09  08/20/2019 22:47:24          5.0 -2.631794e+18   \n",
      "1        1.677287e+09  02/25/2023 00:59:49          0.0 -2.631794e+18   \n",
      "2        1.540496e+09  10/25/2018 19:37:28          0.0 -2.631794e+18   \n",
      "3        1.623848e+09  06/16/2021 12:51:58          0.0 -2.631794e+18   \n",
      "4        1.675256e+09  02/01/2023 12:45:38          0.0 -2.631794e+18   \n",
      "...               ...                  ...          ...           ...   \n",
      "5379     1.555022e+09  04/11/2019 22:34:09          2.0 -1.107313e+18   \n",
      "5380     1.688505e+09  07/04/2023 21:06:21          0.0 -1.107313e+18   \n",
      "5383     1.627483e+09  07/28/2021 14:40:47          0.0 -1.107313e+18   \n",
      "5384     1.572556e+09  10/31/2019 21:01:52          1.0 -1.107313e+18   \n",
      "5470     1.501082e+09  07/26/2017 15:11:49          0.0  4.484968e+18   \n",
      "\n",
      "      reviews_per_score_1  reviews_per_score_2 reviews_per_score_3  \\\n",
      "0                     5.0                  3.0                 4.0   \n",
      "1                     5.0                  3.0                 4.0   \n",
      "2                     5.0                  3.0                 4.0   \n",
      "3                     5.0                  3.0                 4.0   \n",
      "4                     5.0                  3.0                 4.0   \n",
      "...                   ...                  ...                 ...   \n",
      "5379                  3.0                  1.0                 9.0   \n",
      "5380                  3.0                  1.0                 9.0   \n",
      "5383                  3.0                  1.0                 9.0   \n",
      "5384                  3.0                  1.0                 9.0   \n",
      "5470                  0.0                  0.0                 0.0   \n",
      "\n",
      "     reviews_per_score_4 reviews_per_score_5  reviews_per_score  \n",
      "0                   23.0               112.0                NaN  \n",
      "1                   23.0               112.0                NaN  \n",
      "2                   23.0               112.0                NaN  \n",
      "3                   23.0               112.0                NaN  \n",
      "4                   23.0               112.0                NaN  \n",
      "...                  ...                 ...                ...  \n",
      "5379                 9.0               108.0                NaN  \n",
      "5380                 9.0               108.0                NaN  \n",
      "5383                 9.0               108.0                NaN  \n",
      "5384                 9.0               108.0                NaN  \n",
      "5470                 0.0                 2.0                NaN  \n",
      "\n",
      "[1520 rows x 36 columns]\n"
     ]
    }
   ],
   "source": [
    "import pandas as pd\n",
    "df3 = pd.read_csv('archivo_combinado.csv')\n",
    "print(df)"
   ]
  },
  {
   "cell_type": "code",
   "execution_count": 61,
   "metadata": {},
   "outputs": [
    {
     "data": {
      "text/plain": [
       "1984"
      ]
     },
     "execution_count": 61,
     "metadata": {},
     "output_type": "execute_result"
    }
   ],
   "source": [
    "df3.shape[0]"
   ]
  },
  {
   "cell_type": "markdown",
   "metadata": {},
   "source": [
    "Entonces ahora tenemos un df con 1984 reviews de todas las sedes de la Pontificia Universidad Catolica del Ecuador"
   ]
  },
  {
   "cell_type": "code",
   "execution_count": null,
   "metadata": {},
   "outputs": [],
   "source": []
  }
 ],
 "metadata": {
  "colab": {
   "provenance": []
  },
  "kernelspec": {
   "display_name": "Python 3 (ipykernel)",
   "language": "python",
   "name": "python3"
  },
  "language_info": {
   "codemirror_mode": {
    "name": "ipython",
    "version": 3
   },
   "file_extension": ".py",
   "mimetype": "text/x-python",
   "name": "python",
   "nbconvert_exporter": "python",
   "pygments_lexer": "ipython3",
   "version": "3.11.7"
  }
 },
 "nbformat": 4,
 "nbformat_minor": 4
}
