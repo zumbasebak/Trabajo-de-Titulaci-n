{
 "cells": [
  {
   "cell_type": "markdown",
   "id": "c00af129-76fe-48c0-91f0-b41b7793db88",
   "metadata": {},
   "source": [
    "# <center>PONTIFICIA UNIVERSIDAD CATÓLICA DEL ECUADOR</center>\n",
    "### <center> PARTE 3: Modelado de datos</center>  \n",
    "### <center>Trabajo de Titulación: USO DE APRENDIZAJE AUTOMATICO PARA EL ANALISIS DE SENTIMIENTOS A TRAVES DE REVIEWS EN LA UNIVERSIDAD CATOLICA DEL ECUADOR  </center>  \n",
    "\n",
    "**Tutor: Charles Escobar**  \n",
    "**Estudiante: Sebastian Miranda**"
   ]
  },
  {
   "cell_type": "markdown",
   "id": "e3c0c11c-d91f-44b6-8b38-c4613dd8a439",
   "metadata": {},
   "source": [
    "## Primero vamos a leer los df balanceados y no balanceados ya que vamos a ver cual modelo esta mejor "
   ]
  },
  {
   "cell_type": "code",
   "execution_count": 1,
   "id": "5b85ee8e-497e-46a1-98b6-8f66ebc85dee",
   "metadata": {},
   "outputs": [
    {
     "name": "stdout",
     "output_type": "stream",
     "text": [
      "Requirement already satisfied: scikit-learn in c:\\users\\snmir\\anaconda3\\lib\\site-packages (1.2.2)\n",
      "Requirement already satisfied: numpy>=1.17.3 in c:\\users\\snmir\\anaconda3\\lib\\site-packages (from scikit-learn) (1.26.4)\n",
      "Requirement already satisfied: scipy>=1.3.2 in c:\\users\\snmir\\anaconda3\\lib\\site-packages (from scikit-learn) (1.11.4)\n",
      "Requirement already satisfied: joblib>=1.1.1 in c:\\users\\snmir\\anaconda3\\lib\\site-packages (from scikit-learn) (1.2.0)\n",
      "Requirement already satisfied: threadpoolctl>=2.0.0 in c:\\users\\snmir\\anaconda3\\lib\\site-packages (from scikit-learn) (2.2.0)\n",
      "Note: you may need to restart the kernel to use updated packages.\n"
     ]
    }
   ],
   "source": [
    "pip install scikit-learn"
   ]
  },
  {
   "cell_type": "code",
   "execution_count": 2,
   "id": "f349e794-4de1-47ea-ae4f-31a6462f00bb",
   "metadata": {},
   "outputs": [
    {
     "name": "stdout",
     "output_type": "stream",
     "text": [
      "Requirement already satisfied: seaborn in c:\\users\\snmir\\anaconda3\\lib\\site-packages (0.12.2)Note: you may need to restart the kernel to use updated packages.\n",
      "\n",
      "Requirement already satisfied: numpy!=1.24.0,>=1.17 in c:\\users\\snmir\\anaconda3\\lib\\site-packages (from seaborn) (1.26.4)\n",
      "Requirement already satisfied: pandas>=0.25 in c:\\users\\snmir\\anaconda3\\lib\\site-packages (from seaborn) (2.1.4)\n",
      "Requirement already satisfied: matplotlib!=3.6.1,>=3.1 in c:\\users\\snmir\\anaconda3\\lib\\site-packages (from seaborn) (3.8.0)\n",
      "Requirement already satisfied: contourpy>=1.0.1 in c:\\users\\snmir\\anaconda3\\lib\\site-packages (from matplotlib!=3.6.1,>=3.1->seaborn) (1.2.0)\n",
      "Requirement already satisfied: cycler>=0.10 in c:\\users\\snmir\\anaconda3\\lib\\site-packages (from matplotlib!=3.6.1,>=3.1->seaborn) (0.11.0)\n",
      "Requirement already satisfied: fonttools>=4.22.0 in c:\\users\\snmir\\anaconda3\\lib\\site-packages (from matplotlib!=3.6.1,>=3.1->seaborn) (4.25.0)\n",
      "Requirement already satisfied: kiwisolver>=1.0.1 in c:\\users\\snmir\\anaconda3\\lib\\site-packages (from matplotlib!=3.6.1,>=3.1->seaborn) (1.4.4)\n",
      "Requirement already satisfied: packaging>=20.0 in c:\\users\\snmir\\anaconda3\\lib\\site-packages (from matplotlib!=3.6.1,>=3.1->seaborn) (23.1)\n",
      "Requirement already satisfied: pillow>=6.2.0 in c:\\users\\snmir\\anaconda3\\lib\\site-packages (from matplotlib!=3.6.1,>=3.1->seaborn) (10.2.0)\n",
      "Requirement already satisfied: pyparsing>=2.3.1 in c:\\users\\snmir\\anaconda3\\lib\\site-packages (from matplotlib!=3.6.1,>=3.1->seaborn) (3.0.9)\n",
      "Requirement already satisfied: python-dateutil>=2.7 in c:\\users\\snmir\\anaconda3\\lib\\site-packages (from matplotlib!=3.6.1,>=3.1->seaborn) (2.8.2)\n",
      "Requirement already satisfied: pytz>=2020.1 in c:\\users\\snmir\\anaconda3\\lib\\site-packages (from pandas>=0.25->seaborn) (2023.3.post1)\n",
      "Requirement already satisfied: tzdata>=2022.1 in c:\\users\\snmir\\anaconda3\\lib\\site-packages (from pandas>=0.25->seaborn) (2023.3)\n",
      "Requirement already satisfied: six>=1.5 in c:\\users\\snmir\\anaconda3\\lib\\site-packages (from python-dateutil>=2.7->matplotlib!=3.6.1,>=3.1->seaborn) (1.16.0)\n"
     ]
    }
   ],
   "source": [
    "pip install seaborn"
   ]
  },
  {
   "cell_type": "markdown",
   "id": "4dc5a5bb-50d3-4c9b-84bb-ecc67a2d9355",
   "metadata": {},
   "source": [
    "Importamos las librerias"
   ]
  },
  {
   "cell_type": "code",
   "execution_count": 3,
   "id": "27450d73-801c-4dd8-a86f-80f1dd13cfbc",
   "metadata": {},
   "outputs": [],
   "source": [
    "import pandas as pd\n",
    "from sklearn.model_selection import train_test_split\n",
    "from sklearn.feature_extraction.text import TfidfVectorizer\n",
    "from sklearn.svm import SVC\n",
    "from sklearn.naive_bayes import MultinomialNB\n",
    "from sklearn.linear_model import LogisticRegression\n",
    "from sklearn.ensemble import RandomForestClassifier\n",
    "from sklearn.metrics import classification_report, confusion_matrix\n",
    "import pandas as pd\n",
    "import re\n",
    "import matplotlib.pyplot as plt\n",
    "from textblob import TextBlob"
   ]
  },
  {
   "cell_type": "markdown",
   "id": "fae1419b-38a9-4c0c-8e57-4db757768dca",
   "metadata": {},
   "source": [
    "Primero vamos a leer los dos dataframes "
   ]
  },
  {
   "cell_type": "code",
   "execution_count": 24,
   "id": "cc4f4bd5-0185-4aa4-8f1b-64987f14a9bb",
   "metadata": {},
   "outputs": [],
   "source": [
    "reviews_balanceados = pd.read_csv('reviews_balanceados.csv')\n",
    "reviews_nobalanceados = pd.read_csv('reviews_nobalanceados.csv')\n",
    "reviews_nobalanceados = reviews_nobalanceados.dropna(subset=['texto'])\n",
    "reviews_balanceados = reviews_balanceados.dropna(subset=['texto'])"
   ]
  },
  {
   "cell_type": "markdown",
   "id": "01191030-cd07-4a85-9029-72115f7aacc8",
   "metadata": {},
   "source": [
    "## No balanceados"
   ]
  },
  {
   "cell_type": "markdown",
   "id": "718615f3-4219-4458-87bf-4a18db5ce7bf",
   "metadata": {},
   "source": [
    "Ahora vamos a realizar la division de los datos en datos de prueba y datos de entrenamiento"
   ]
  },
  {
   "cell_type": "code",
   "execution_count": 18,
   "id": "5ed27dd5-a3e5-44ad-b9a4-6170da0c9a0d",
   "metadata": {},
   "outputs": [],
   "source": [
    "# Preprocesamiento de datos\n",
    "vectorizer = TfidfVectorizer(max_features=1000)  # Puedes ajustar el número máximo de características\n",
    "X = vectorizer.fit_transform(reviews_balanceados['texto'])\n",
    "y = reviews_balanceados['sentimiento']\n",
    "\n",
    "# División de datos en conjuntos de entrenamiento y prueba\n",
    "X_train, X_test, y_train, y_test = train_test_split(X, y, test_size=0.2, random_state=42)\n",
    "\n",
    "# Inicializar modelos\n",
    "models = {\n",
    "    'Support Vector Machine': SVC(),\n",
    "    'Naive Bayes': MultinomialNB(),\n",
    "    'Logistic Regression': LogisticRegression(),\n",
    "    'Random Forest': RandomForestClassifier()\n",
    "}"
   ]
  },
  {
   "cell_type": "code",
   "execution_count": 23,
   "id": "74eb4611-612b-4ba6-b4e7-906b1ab57aac",
   "metadata": {},
   "outputs": [
    {
     "name": "stdout",
     "output_type": "stream",
     "text": [
      "Entrenando Support Vector Machine...\n",
      "Métricas de rendimiento para Support Vector Machine:\n",
      "              precision    recall  f1-score   support\n",
      "\n",
      "    negativo       0.81      0.97      0.88        63\n",
      "     neutral       0.92      0.84      0.88        58\n",
      "    positivo       0.98      0.86      0.92        58\n",
      "\n",
      "    accuracy                           0.89       179\n",
      "   macro avg       0.91      0.89      0.89       179\n",
      "weighted avg       0.90      0.89      0.89       179\n",
      "\n",
      "Matriz de confusión para Support Vector Machine:\n"
     ]
    },
    {
     "ename": "NameError",
     "evalue": "name 'np' is not defined",
     "output_type": "error",
     "traceback": [
      "\u001b[1;31m---------------------------------------------------------------------------\u001b[0m",
      "\u001b[1;31mNameError\u001b[0m                                 Traceback (most recent call last)",
      "Cell \u001b[1;32mIn[23], line 33\u001b[0m\n\u001b[0;32m     31\u001b[0m \u001b[38;5;28mprint\u001b[39m(\u001b[38;5;124m\"\u001b[39m\u001b[38;5;124mMatriz de confusión para \u001b[39m\u001b[38;5;132;01m{}\u001b[39;00m\u001b[38;5;124m:\u001b[39m\u001b[38;5;124m\"\u001b[39m\u001b[38;5;241m.\u001b[39mformat(name))\n\u001b[0;32m     32\u001b[0m cm \u001b[38;5;241m=\u001b[39m confusion_matrix(y_test, y_pred)\n\u001b[1;32m---> 33\u001b[0m plot_confusion_matrix(cm, classes\u001b[38;5;241m=\u001b[39mmodel\u001b[38;5;241m.\u001b[39mclasses_, title\u001b[38;5;241m=\u001b[39m\u001b[38;5;124m'\u001b[39m\u001b[38;5;124mMatriz de Confusión para \u001b[39m\u001b[38;5;132;01m{}\u001b[39;00m\u001b[38;5;124m'\u001b[39m\u001b[38;5;241m.\u001b[39mformat(name))\n\u001b[0;32m     34\u001b[0m plt\u001b[38;5;241m.\u001b[39mshow()\n\u001b[0;32m     35\u001b[0m \u001b[38;5;28mprint\u001b[39m(\u001b[38;5;124m\"\u001b[39m\u001b[38;5;124m----------------------------------------------\u001b[39m\u001b[38;5;124m\"\u001b[39m)\n",
      "Cell \u001b[1;32mIn[23], line 8\u001b[0m, in \u001b[0;36mplot_confusion_matrix\u001b[1;34m(cm, classes, normalize, title, cmap)\u001b[0m\n\u001b[0;32m      6\u001b[0m plt\u001b[38;5;241m.\u001b[39mtitle(title)\n\u001b[0;32m      7\u001b[0m plt\u001b[38;5;241m.\u001b[39mcolorbar()\n\u001b[1;32m----> 8\u001b[0m tick_marks \u001b[38;5;241m=\u001b[39m np\u001b[38;5;241m.\u001b[39marange(\u001b[38;5;28mlen\u001b[39m(classes))\n\u001b[0;32m      9\u001b[0m plt\u001b[38;5;241m.\u001b[39mxticks(tick_marks, classes, rotation\u001b[38;5;241m=\u001b[39m\u001b[38;5;241m45\u001b[39m)\n\u001b[0;32m     10\u001b[0m plt\u001b[38;5;241m.\u001b[39myticks(tick_marks, classes)\n",
      "\u001b[1;31mNameError\u001b[0m: name 'np' is not defined"
     ]
    },
    {
     "data": {
      "image/png": "[encoded data removed]",
      "text/plain": [
       "<Figure size 640x480 with 2 Axes>"
      ]
     },
     "metadata": {},
     "output_type": "display_data"
    }
   ],
   "source": [
    "def plot_confusion_matrix(cm, classes,\n",
    "                          normalize=False,\n",
    "                          title='Matriz de Confusión',\n",
    "                          cmap=plt.cm.Blues):\n",
    "    plt.imshow(cm, interpolation='nearest', cmap=cmap)\n",
    "    plt.title(title)\n",
    "    plt.colorbar()\n",
    "    tick_marks = np.arange(len(classes))\n",
    "    plt.xticks(tick_marks, classes, rotation=45)\n",
    "    plt.yticks(tick_marks, classes)\n",
    "\n",
    "    fmt = '.2f' if normalize else 'd'\n",
    "    thresh = cm.max() / 2.\n",
    "    for i in range(cm.shape[0]):\n",
    "        for j in range(cm.shape[1]):\n",
    "            plt.text(j, i, format(cm[i, j], fmt),\n",
    "                     horizontalalignment=\"center\",\n",
    "                     color=\"white\" if cm[i, j] > thresh else \"black\")\n",
    "\n",
    "    plt.ylabel('Etiqueta verdadera')\n",
    "    plt.xlabel('Etiqueta predicha')\n",
    "    plt.tight_layout()\n",
    "\n",
    "# Entrenamiento y evaluación de modelos\n",
    "for name, model in models.items():\n",
    "    print(\"Entrenando {}...\".format(name))\n",
    "    model.fit(X_train, y_train)\n",
    "    y_pred = model.predict(X_test)\n",
    "    print(\"Métricas de rendimiento para {}:\".format(name))\n",
    "    print(classification_report(y_test, y_pred))\n",
    "    print(\"Matriz de confusión para {}:\".format(name))\n",
    "    cm = confusion_matrix(y_test, y_pred)\n",
    "    plot_confusion_matrix(cm, classes=model.classes_, title='Matriz de Confusión para {}'.format(name))\n",
    "    plt.show()\n",
    "    print(\"----------------------------------------------\")"
   ]
  },
  {
   "cell_type": "code",
   "execution_count": 14,
   "id": "9444e2ba-61c3-4e2e-a919-10c64fddcbae",
   "metadata": {},
   "outputs": [],
   "source": [
    "# Preprocesamiento de datos\n",
    "vectorizer = TfidfVectorizer(max_features=1000)  # Puedes ajustar el número máximo de características\n",
    "X = vectorizer.fit_transform(reviews_nobalanceados['texto'])\n",
    "y = reviews_nobalanceados['sentimiento']\n",
    "\n",
    "# División de datos en conjuntos de entrenamiento y prueba\n",
    "X_train, X_test, y_train, y_test = train_test_split(X, y, test_size=0.2, random_state=42)\n"
   ]
  },
  {
   "cell_type": "markdown",
   "id": "657b2775-f910-4148-be1a-aa6e40455f5e",
   "metadata": {},
   "source": [
    "Ahora entrenamos los modelos"
   ]
  },
  {
   "cell_type": "code",
   "execution_count": 8,
   "id": "b56365a9-52fd-407e-b995-deac66a49c89",
   "metadata": {},
   "outputs": [
    {
     "ename": "AttributeError",
     "evalue": "'DataFrame' object has no attribute 'fit'",
     "output_type": "error",
     "traceback": [
      "\u001b[1;31m---------------------------------------------------------------------------\u001b[0m",
      "\u001b[1;31mAttributeError\u001b[0m                            Traceback (most recent call last)",
      "\u001b[1;32m~\\AppData\\Local\\Temp\\ipykernel_2000\\3990145042.py\u001b[0m in \u001b[0;36m?\u001b[1;34m()\u001b[0m\n\u001b[1;32m----> 1\u001b[1;33m \u001b[0mreviews_balanceados\u001b[0m\u001b[1;33m.\u001b[0m\u001b[0mfit\u001b[0m\u001b[1;33m(\u001b[0m\u001b[0mX_train\u001b[0m\u001b[1;33m,\u001b[0m \u001b[0my_train\u001b[0m\u001b[1;33m)\u001b[0m\u001b[1;33m\u001b[0m\u001b[1;33m\u001b[0m\u001b[0m\n\u001b[0m\u001b[0;32m      2\u001b[0m \u001b[0my_pred\u001b[0m \u001b[1;33m=\u001b[0m \u001b[0mmodel\u001b[0m\u001b[1;33m.\u001b[0m\u001b[0mpredict\u001b[0m\u001b[1;33m(\u001b[0m\u001b[0mX_test\u001b[0m\u001b[1;33m)\u001b[0m\u001b[1;33m\u001b[0m\u001b[1;33m\u001b[0m\u001b[0m\n",
      "\u001b[1;32m~\\anaconda3\\Lib\\site-packages\\pandas\\core\\generic.py\u001b[0m in \u001b[0;36m?\u001b[1;34m(self, name)\u001b[0m\n\u001b[0;32m   6200\u001b[0m             \u001b[1;32mand\u001b[0m \u001b[0mname\u001b[0m \u001b[1;32mnot\u001b[0m \u001b[1;32min\u001b[0m \u001b[0mself\u001b[0m\u001b[1;33m.\u001b[0m\u001b[0m_accessors\u001b[0m\u001b[1;33m\u001b[0m\u001b[1;33m\u001b[0m\u001b[0m\n\u001b[0;32m   6201\u001b[0m             \u001b[1;32mand\u001b[0m \u001b[0mself\u001b[0m\u001b[1;33m.\u001b[0m\u001b[0m_info_axis\u001b[0m\u001b[1;33m.\u001b[0m\u001b[0m_can_hold_identifiers_and_holds_name\u001b[0m\u001b[1;33m(\u001b[0m\u001b[0mname\u001b[0m\u001b[1;33m)\u001b[0m\u001b[1;33m\u001b[0m\u001b[1;33m\u001b[0m\u001b[0m\n\u001b[0;32m   6202\u001b[0m         ):\n\u001b[0;32m   6203\u001b[0m             \u001b[1;32mreturn\u001b[0m \u001b[0mself\u001b[0m\u001b[1;33m[\u001b[0m\u001b[0mname\u001b[0m\u001b[1;33m]\u001b[0m\u001b[1;33m\u001b[0m\u001b[1;33m\u001b[0m\u001b[0m\n\u001b[1;32m-> 6204\u001b[1;33m         \u001b[1;32mreturn\u001b[0m \u001b[0mobject\u001b[0m\u001b[1;33m.\u001b[0m\u001b[0m__getattribute__\u001b[0m\u001b[1;33m(\u001b[0m\u001b[0mself\u001b[0m\u001b[1;33m,\u001b[0m \u001b[0mname\u001b[0m\u001b[1;33m)\u001b[0m\u001b[1;33m\u001b[0m\u001b[1;33m\u001b[0m\u001b[0m\n\u001b[0m",
      "\u001b[1;31mAttributeError\u001b[0m: 'DataFrame' object has no attribute 'fit'"
     ]
    }
   ],
   "source": [
    "model.fit(X_train, y_train)\n",
    "y_pred = model.predict(X_test)"
   ]
  },
  {
   "cell_type": "markdown",
   "id": "4f9c07d3-4eed-405f-8704-db33a1d0cf91",
   "metadata": {},
   "source": [
    "Primero creamos la funcion para dibujar la matriz de confusion"
   ]
  },
  {
   "cell_type": "code",
   "execution_count": 12,
   "id": "0e06f51c-009b-48d2-b318-c53738cb3bdb",
   "metadata": {},
   "outputs": [],
   "source": [
    "# Función para mostrar la matriz de confusión con colores\n",
    "def plot_confusion_matrix(cm, classes,\n",
    "                          normalize=False,\n",
    "                          title='Matriz de Confusión',\n",
    "                          cmap=plt.cm.Blues):\n",
    "    plt.imshow(cm, interpolation='nearest', cmap=cmap)\n",
    "    plt.title(title)\n",
    "    plt.colorbar()\n",
    "    tick_marks = np.arange(len(classes))\n",
    "    plt.xticks(tick_marks, classes, rotation=45)\n",
    "    plt.yticks(tick_marks, classes)\n",
    "\n",
    "    fmt = '.2f' if normalize else 'd'\n",
    "    thresh = cm.max() / 2.\n",
    "    for i in range(cm.shape[0]):\n",
    "        for j in range(cm.shape[1]):\n",
    "            plt.text(j, i, format(cm[i, j], fmt),\n",
    "                     horizontalalignment=\"center\",\n",
    "                     color=\"white\" if cm[i, j] > thresh else \"black\")\n",
    "\n",
    "    plt.ylabel('Etiqueta verdadera')\n",
    "    plt.xlabel('Etiqueta predicha')\n",
    "    plt.tight_layout()\n"
   ]
  },
  {
   "cell_type": "code",
   "execution_count": 13,
   "id": "4a78a61f-0841-4ea1-b71f-2d092cfac18f",
   "metadata": {},
   "outputs": [
    {
     "name": "stdout",
     "output_type": "stream",
     "text": [
      "Entrenando Support Vector Machine...\n",
      "Métricas de rendimiento para Support Vector Machine:\n",
      "              precision    recall  f1-score   support\n",
      "\n",
      "    negativo       0.81      0.97      0.88        63\n",
      "     neutral       0.92      0.84      0.88        58\n",
      "    positivo       0.98      0.86      0.92        58\n",
      "\n",
      "    accuracy                           0.89       179\n",
      "   macro avg       0.91      0.89      0.89       179\n",
      "weighted avg       0.90      0.89      0.89       179\n",
      "\n",
      "Matriz de confusión para Support Vector Machine:\n"
     ]
    },
    {
     "ename": "NameError",
     "evalue": "name 'np' is not defined",
     "output_type": "error",
     "traceback": [
      "\u001b[1;31m---------------------------------------------------------------------------\u001b[0m",
      "\u001b[1;31mNameError\u001b[0m                                 Traceback (most recent call last)",
      "Cell \u001b[1;32mIn[13], line 17\u001b[0m\n\u001b[0;32m     15\u001b[0m \u001b[38;5;28mprint\u001b[39m(\u001b[38;5;124m\"\u001b[39m\u001b[38;5;124mMatriz de confusión para \u001b[39m\u001b[38;5;132;01m{}\u001b[39;00m\u001b[38;5;124m:\u001b[39m\u001b[38;5;124m\"\u001b[39m\u001b[38;5;241m.\u001b[39mformat(name))\n\u001b[0;32m     16\u001b[0m cm \u001b[38;5;241m=\u001b[39m confusion_matrix(y_test, y_pred)\n\u001b[1;32m---> 17\u001b[0m plot_confusion_matrix(cm, classes\u001b[38;5;241m=\u001b[39mmodel\u001b[38;5;241m.\u001b[39mclasses_, title\u001b[38;5;241m=\u001b[39m\u001b[38;5;124m'\u001b[39m\u001b[38;5;124mMatriz de Confusión para \u001b[39m\u001b[38;5;132;01m{}\u001b[39;00m\u001b[38;5;124m'\u001b[39m\u001b[38;5;241m.\u001b[39mformat(name))\n\u001b[0;32m     18\u001b[0m plt\u001b[38;5;241m.\u001b[39mshow()\n\u001b[0;32m     19\u001b[0m \u001b[38;5;28mprint\u001b[39m(\u001b[38;5;124m\"\u001b[39m\u001b[38;5;124m----------------------------------------------\u001b[39m\u001b[38;5;124m\"\u001b[39m)\n",
      "Cell \u001b[1;32mIn[12], line 9\u001b[0m, in \u001b[0;36mplot_confusion_matrix\u001b[1;34m(cm, classes, normalize, title, cmap)\u001b[0m\n\u001b[0;32m      7\u001b[0m plt\u001b[38;5;241m.\u001b[39mtitle(title)\n\u001b[0;32m      8\u001b[0m plt\u001b[38;5;241m.\u001b[39mcolorbar()\n\u001b[1;32m----> 9\u001b[0m tick_marks \u001b[38;5;241m=\u001b[39m np\u001b[38;5;241m.\u001b[39marange(\u001b[38;5;28mlen\u001b[39m(classes))\n\u001b[0;32m     10\u001b[0m plt\u001b[38;5;241m.\u001b[39mxticks(tick_marks, classes, rotation\u001b[38;5;241m=\u001b[39m\u001b[38;5;241m45\u001b[39m)\n\u001b[0;32m     11\u001b[0m plt\u001b[38;5;241m.\u001b[39myticks(tick_marks, classes)\n",
      "\u001b[1;31mNameError\u001b[0m: name 'np' is not defined"
     ]
    },
    {
     "data": {
      "image/png": "[encoded data removed]",
      "text/plain": [
       "<Figure size 640x480 with 2 Axes>"
      ]
     },
     "metadata": {},
     "output_type": "display_data"
    }
   ],
   "source": [
    "# Inicializar modelos\n",
    "models = {\n",
    "    'Support Vector Machine': SVC(),\n",
    "    'Naive Bayes': MultinomialNB(),\n",
    "    'Logistic Regression': LogisticRegression(),\n",
    "    'Random Forest': RandomForestClassifier()\n",
    "}\n",
    "# Entrenamiento y evaluación de modelos\n",
    "for name, model in models.items():\n",
    "    print(\"Entrenando {}...\".format(name))\n",
    "    model.fit(X_train, y_train)\n",
    "    y_pred = model.predict(X_test)\n",
    "    print(\"Métricas de rendimiento para {}:\".format(name))\n",
    "    print(classification_report(y_test, y_pred))\n",
    "    print(\"Matriz de confusión para {}:\".format(name))\n",
    "    cm = confusion_matrix(y_test, y_pred)\n",
    "    plot_confusion_matrix(cm, classes=model.classes_, title='Matriz de Confusión para {}'.format(name))\n",
    "    plt.show()\n",
    "    print(\"----------------------------------------------\")\n",
    "\n"
   ]
  },
  {
   "cell_type": "markdown",
   "id": "47e57bb2-0a8e-4782-a65c-394e3b3bafa1",
   "metadata": {},
   "source": [
    "## Balanceados"
   ]
  },
  {
   "cell_type": "markdown",
   "id": "66994634-95fe-4330-abb5-7b9ca3353bc2",
   "metadata": {},
   "source": [
    "Ahora vamos a realizar la division de los datos en datos de prueba y datos de entrenamiento"
   ]
  },
  {
   "cell_type": "code",
   "execution_count": 20,
   "id": "590d4e0f-d25f-4a1d-ae6c-1274944afa61",
   "metadata": {},
   "outputs": [],
   "source": [
    "# Preprocesamiento de datos\n",
    "vectorizer = TfidfVectorizer(max_features=1000)  # Puedes ajustar el número máximo de características\n",
    "X = vectorizer.fit_transform(reviews_balanceados['texto'])\n",
    "y = reviews_balanceados['sentimiento']\n",
    "\n",
    "# División de datos en conjuntos de entrenamiento y prueba\n",
    "X_train, X_test, y_train, y_test = train_test_split(X, y, test_size=0.2, random_state=42)"
   ]
  },
  {
   "cell_type": "markdown",
   "id": "9696deb3-4082-4bf4-b98d-cdb85ee59809",
   "metadata": {},
   "source": [
    "Ahora entrenamos los modelos"
   ]
  },
  {
   "cell_type": "code",
   "execution_count": 21,
   "id": "3ba75f40-65f4-4410-969a-0063a6688a00",
   "metadata": {},
   "outputs": [],
   "source": [
    "model.fit(X_train, y_train)\n",
    "y_pred = model.predict(X_test)"
   ]
  },
  {
   "cell_type": "code",
   "execution_count": 22,
   "id": "d922ed2d-16fd-4cac-aecd-f0294d19dce2",
   "metadata": {},
   "outputs": [
    {
     "name": "stdout",
     "output_type": "stream",
     "text": [
      "Entrenando Support Vector Machine...\n",
      "Métricas de rendimiento para Support Vector Machine:\n",
      "              precision    recall  f1-score   support\n",
      "\n",
      "    negativo       0.81      0.97      0.88        63\n",
      "     neutral       0.92      0.84      0.88        58\n",
      "    positivo       0.98      0.86      0.92        58\n",
      "\n",
      "    accuracy                           0.89       179\n",
      "   macro avg       0.91      0.89      0.89       179\n",
      "weighted avg       0.90      0.89      0.89       179\n",
      "\n",
      "Matriz de confusión para Support Vector Machine:\n"
     ]
    },
    {
     "ename": "NameError",
     "evalue": "name 'np' is not defined",
     "output_type": "error",
     "traceback": [
      "\u001b[1;31m---------------------------------------------------------------------------\u001b[0m",
      "\u001b[1;31mNameError\u001b[0m                                 Traceback (most recent call last)",
      "Cell \u001b[1;32mIn[22], line 10\u001b[0m\n\u001b[0;32m      8\u001b[0m \u001b[38;5;28mprint\u001b[39m(\u001b[38;5;124m\"\u001b[39m\u001b[38;5;124mMatriz de confusión para \u001b[39m\u001b[38;5;132;01m{}\u001b[39;00m\u001b[38;5;124m:\u001b[39m\u001b[38;5;124m\"\u001b[39m\u001b[38;5;241m.\u001b[39mformat(name))\n\u001b[0;32m      9\u001b[0m cm \u001b[38;5;241m=\u001b[39m confusion_matrix(y_test, y_pred)\n\u001b[1;32m---> 10\u001b[0m plot_confusion_matrix(cm, classes\u001b[38;5;241m=\u001b[39mmodel\u001b[38;5;241m.\u001b[39mclasses_, title\u001b[38;5;241m=\u001b[39m\u001b[38;5;124m'\u001b[39m\u001b[38;5;124mMatriz de Confusión para \u001b[39m\u001b[38;5;132;01m{}\u001b[39;00m\u001b[38;5;124m'\u001b[39m\u001b[38;5;241m.\u001b[39mformat(name))\n\u001b[0;32m     11\u001b[0m plt\u001b[38;5;241m.\u001b[39mshow()\n\u001b[0;32m     12\u001b[0m \u001b[38;5;28mprint\u001b[39m(\u001b[38;5;124m\"\u001b[39m\u001b[38;5;124m----------------------------------------------\u001b[39m\u001b[38;5;124m\"\u001b[39m)\n",
      "Cell \u001b[1;32mIn[19], line 12\u001b[0m, in \u001b[0;36mplot_confusion_matrix\u001b[1;34m(cm, classes, normalize, title, cmap)\u001b[0m\n\u001b[0;32m     10\u001b[0m plt\u001b[38;5;241m.\u001b[39mtitle(title)\n\u001b[0;32m     11\u001b[0m plt\u001b[38;5;241m.\u001b[39mcolorbar()\n\u001b[1;32m---> 12\u001b[0m tick_marks \u001b[38;5;241m=\u001b[39m np\u001b[38;5;241m.\u001b[39marange(\u001b[38;5;28mlen\u001b[39m(classes))\n\u001b[0;32m     13\u001b[0m plt\u001b[38;5;241m.\u001b[39mxticks(tick_marks, classes, rotation\u001b[38;5;241m=\u001b[39m\u001b[38;5;241m45\u001b[39m)\n\u001b[0;32m     14\u001b[0m plt\u001b[38;5;241m.\u001b[39myticks(tick_marks, classes)\n",
      "\u001b[1;31mNameError\u001b[0m: name 'np' is not defined"
     ]
    },
    {
     "data": {
      "image/png": "[encoded data removed]",
      "text/plain": [
       "<Figure size 640x480 with 2 Axes>"
      ]
     },
     "metadata": {},
     "output_type": "display_data"
    }
   ],
   "source": [
    "\n",
    "# Entrenamiento y evaluación de modelos\n",
    "for name, model in models.items():\n",
    "    print(\"Entrenando {}...\".format(name))\n",
    "    model.fit(X_train, y_train)\n",
    "    y_pred = model.predict(X_test)\n",
    "    print(\"Métricas de rendimiento para {}:\".format(name))\n",
    "    print(classification_report(y_test, y_pred))\n",
    "    print(\"Matriz de confusión para {}:\".format(name))\n",
    "    cm = confusion_matrix(y_test, y_pred)\n",
    "    plot_confusion_matrix(cm, classes=model.classes_, title='Matriz de Confusión para {}'.format(name))\n",
    "    plt.show()\n",
    "    print(\"----------------------------------------------\")\n"
   ]
  },
  {
   "cell_type": "code",
   "execution_count": 43,
   "id": "62f8d62c-bc91-4c5f-bb9d-6efb316df9d2",
   "metadata": {},
   "outputs": [
    {
     "name": "stdout",
     "output_type": "stream",
     "text": [
      "Entrenando Support Vector Machine...\n",
      "Métricas de rendimiento para Support Vector Machine:\n",
      "              precision    recall  f1-score   support\n",
      "\n",
      "    negativo       0.88      0.89      0.89        57\n",
      "     neutral       0.94      0.94      0.94       108\n",
      "    positivo       0.99      0.99      0.99       287\n",
      "\n",
      "    accuracy                           0.96       452\n",
      "   macro avg       0.94      0.94      0.94       452\n",
      "weighted avg       0.96      0.96      0.96       452\n",
      "\n",
      "Matriz de confusión para Support Vector Machine:\n",
      "[[ 51   5   1]\n",
      " [  6 101   1]\n",
      " [  1   2 284]]\n",
      "----------------------------------------------\n",
      "Entrenando Naive Bayes...\n",
      "Métricas de rendimiento para Naive Bayes:\n",
      "              precision    recall  f1-score   support\n",
      "\n",
      "    negativo       0.91      0.68      0.78        57\n",
      "     neutral       0.93      0.63      0.75       108\n",
      "    positivo       0.85      1.00      0.92       287\n",
      "\n",
      "    accuracy                           0.87       452\n",
      "   macro avg       0.90      0.77      0.82       452\n",
      "weighted avg       0.88      0.87      0.86       452\n",
      "\n",
      "Matriz de confusión para Naive Bayes:\n",
      "[[ 39   4  14]\n",
      " [  4  68  36]\n",
      " [  0   1 286]]\n",
      "----------------------------------------------\n",
      "Entrenando Logistic Regression...\n",
      "Métricas de rendimiento para Logistic Regression:\n",
      "              precision    recall  f1-score   support\n",
      "\n",
      "    negativo       0.89      0.88      0.88        57\n",
      "     neutral       0.93      0.92      0.92       108\n",
      "    positivo       0.99      0.99      0.99       287\n",
      "\n",
      "    accuracy                           0.96       452\n",
      "   macro avg       0.93      0.93      0.93       452\n",
      "weighted avg       0.96      0.96      0.96       452\n",
      "\n",
      "Matriz de confusión para Logistic Regression:\n",
      "[[ 50   6   1]\n",
      " [  6  99   3]\n",
      " [  0   2 285]]\n",
      "----------------------------------------------\n",
      "Entrenando Random Forest...\n",
      "Métricas de rendimiento para Random Forest:\n",
      "              precision    recall  f1-score   support\n",
      "\n",
      "    negativo       0.88      0.89      0.89        57\n",
      "     neutral       0.92      0.92      0.92       108\n",
      "    positivo       0.99      0.99      0.99       287\n",
      "\n",
      "    accuracy                           0.96       452\n",
      "   macro avg       0.93      0.93      0.93       452\n",
      "weighted avg       0.96      0.96      0.96       452\n",
      "\n",
      "Matriz de confusión para Random Forest:\n",
      "[[ 51   6   0]\n",
      " [  7  99   2]\n",
      " [  0   3 284]]\n",
      "----------------------------------------------\n"
     ]
    }
   ],
   "source": [
    "import pandas as pd\n",
    "from sklearn.model_selection import train_test_split\n",
    "from sklearn.feature_extraction.text import TfidfVectorizer\n",
    "from sklearn.svm import SVC\n",
    "from sklearn.naive_bayes import MultinomialNB\n",
    "from sklearn.linear_model import LogisticRegression\n",
    "from sklearn.ensemble import RandomForestClassifier\n",
    "from sklearn.metrics import classification_report, confusion_matrix\n",
    "\n",
    "# Cargar el dataframe\n",
    "\n",
    "# Preprocesamiento de datos\n",
    "vectorizer = TfidfVectorizer(max_features=1000)  # Puedes ajustar el número máximo de características\n",
    "X = vectorizer.fit_transform(reviews_nobalanceados['texto'])\n",
    "y = reviews_nobalanceados['sentimiento']\n",
    "\n",
    "# División de datos en conjuntos de entrenamiento y prueba\n",
    "X_train, X_test, y_train, y_test = train_test_split(X, y, test_size=0.2, random_state=42)\n",
    "\n",
    "# Inicializar modelos\n",
    "models_nobalanceado = {\n",
    "    'Support Vector Machine': SVC(),\n",
    "    'Naive Bayes': MultinomialNB(),\n",
    "    'Logistic Regression': LogisticRegression(),\n",
    "    'Random Forest': RandomForestClassifier()\n",
    "}\n",
    "\n",
    "# Entrenamiento y evaluación de modelos\n",
    "for name, model in models_nobalanceado.items():\n",
    "    print(\"Entrenando {}...\".format(name))\n",
    "    model.fit(X_train, y_train)\n",
    "    y_pred = model.predict(X_test)\n",
    "    print(\"Métricas de rendimiento para {}:\".format(name))\n",
    "    print(classification_report(y_test, y_pred))\n",
    "    print(\"Matriz de confusión para {}:\".format(name))\n",
    "    print(confusion_matrix(y_test, y_pred))\n",
    "    print(\"----------------------------------------------\")\n"
   ]
  },
  {
   "cell_type": "code",
   "execution_count": 44,
   "id": "314128ba-d6ee-46fd-83eb-3fbb8302aa15",
   "metadata": {},
   "outputs": [
    {
     "name": "stdout",
     "output_type": "stream",
     "text": [
      "Entrenando Support Vector Machine...\n",
      "Métricas de rendimiento para Support Vector Machine:\n",
      "              precision    recall  f1-score   support\n",
      "\n",
      "    negativo       0.81      0.97      0.88        63\n",
      "     neutral       0.92      0.84      0.88        58\n",
      "    positivo       0.98      0.86      0.92        58\n",
      "\n",
      "    accuracy                           0.89       179\n",
      "   macro avg       0.91      0.89      0.89       179\n",
      "weighted avg       0.90      0.89      0.89       179\n",
      "\n",
      "Matriz de confusión para Support Vector Machine:\n",
      "[[61  2  0]\n",
      " [ 8 49  1]\n",
      " [ 6  2 50]]\n",
      "----------------------------------------------\n",
      "Entrenando Naive Bayes...\n",
      "Métricas de rendimiento para Naive Bayes:\n",
      "              precision    recall  f1-score   support\n",
      "\n",
      "    negativo       0.78      0.97      0.87        63\n",
      "     neutral       0.93      0.67      0.78        58\n",
      "    positivo       0.88      0.90      0.89        58\n",
      "\n",
      "    accuracy                           0.85       179\n",
      "   macro avg       0.86      0.85      0.84       179\n",
      "weighted avg       0.86      0.85      0.85       179\n",
      "\n",
      "Matriz de confusión para Naive Bayes:\n",
      "[[61  2  0]\n",
      " [12 39  7]\n",
      " [ 5  1 52]]\n",
      "----------------------------------------------\n",
      "Entrenando Logistic Regression...\n",
      "Métricas de rendimiento para Logistic Regression:\n",
      "              precision    recall  f1-score   support\n",
      "\n",
      "    negativo       0.80      0.95      0.87        63\n",
      "     neutral       0.91      0.84      0.88        58\n",
      "    positivo       1.00      0.86      0.93        58\n",
      "\n",
      "    accuracy                           0.89       179\n",
      "   macro avg       0.90      0.89      0.89       179\n",
      "weighted avg       0.90      0.89      0.89       179\n",
      "\n",
      "Matriz de confusión para Logistic Regression:\n",
      "[[60  3  0]\n",
      " [ 9 49  0]\n",
      " [ 6  2 50]]\n",
      "----------------------------------------------\n",
      "Entrenando Random Forest...\n",
      "Métricas de rendimiento para Random Forest:\n",
      "              precision    recall  f1-score   support\n",
      "\n",
      "    negativo       0.86      0.94      0.89        63\n",
      "     neutral       0.82      0.88      0.85        58\n",
      "    positivo       1.00      0.83      0.91        58\n",
      "\n",
      "    accuracy                           0.88       179\n",
      "   macro avg       0.89      0.88      0.88       179\n",
      "weighted avg       0.89      0.88      0.88       179\n",
      "\n",
      "Matriz de confusión para Random Forest:\n",
      "[[59  4  0]\n",
      " [ 7 51  0]\n",
      " [ 3  7 48]]\n",
      "----------------------------------------------\n"
     ]
    }
   ],
   "source": [
    "import pandas as pd\n",
    "from sklearn.model_selection import train_test_split\n",
    "from sklearn.feature_extraction.text import TfidfVectorizer\n",
    "from sklearn.svm import SVC\n",
    "from sklearn.naive_bayes import MultinomialNB\n",
    "from sklearn.linear_model import LogisticRegression\n",
    "from sklearn.ensemble import RandomForestClassifier\n",
    "from sklearn.metrics import classification_report, confusion_matrix\n",
    "\n",
    "# Cargar el dataframe\n",
    "\n",
    "# Preprocesamiento de datos\n",
    "vectorizer = TfidfVectorizer(max_features=1000)  # Puedes ajustar el número máximo de características\n",
    "X = vectorizer.fit_transform(reviews_balanceados['texto'])\n",
    "y = reviews_balanceados['sentimiento']\n",
    "\n",
    "# División de datos en conjuntos de entrenamiento y prueba\n",
    "X_train, X_test, y_train, y_test = train_test_split(X, y, test_size=0.2, random_state=42)\n",
    "\n",
    "# Inicializar modelos\n",
    "models_balanceado = {\n",
    "    'Support Vector Machine': SVC(),\n",
    "    'Naive Bayes': MultinomialNB(),\n",
    "    'Logistic Regression': LogisticRegression(),\n",
    "    'Random Forest': RandomForestClassifier()\n",
    "}\n",
    "\n",
    "# Entrenamiento y evaluación de modelos\n",
    "for name, model in models_balanceado.items():\n",
    "    print(\"Entrenando {}...\".format(name))\n",
    "    model.fit(X_train, y_train)\n",
    "    y_pred = model.predict(X_test)\n",
    "    print(\"Métricas de rendimiento para {}:\".format(name))\n",
    "    print(classification_report(y_test, y_pred))\n",
    "    print(\"Matriz de confusión para {}:\".format(name))\n",
    "    print(confusion_matrix(y_test, y_pred))\n",
    "    print(\"----------------------------------------------\")\n"
   ]
  },
  {
   "cell_type": "code",
   "execution_count": 45,
   "id": "666a4f92-6d12-46a8-ad3e-f6316ffff1a3",
   "metadata": {},
   "outputs": [],
   "source": [
    "# Función para predecir el sentimiento de un nuevo comentario\n",
    "def predict_sentiment(comment, model, vectorizer):\n",
    "    # Transformar el comentario usando el mismo vectorizador\n",
    "    comment_vector = vectorizer.transform([comment])\n",
    "    # Realizar la predicción\n",
    "    prediction = model.predict(comment_vector)\n",
    "    return prediction[0]\n",
    "\n"
   ]
  },
  {
   "cell_type": "code",
   "execution_count": 56,
   "id": "6a01912f-8565-478a-8abf-c939d911e503",
   "metadata": {},
   "outputs": [
    {
     "name": "stdout",
     "output_type": "stream",
     "text": [
      "El sentimiento del comentario es: neutral\n"
     ]
    }
   ],
   "source": [
    "# Ejemplo de uso:\n",
    "nuevo_comentario = \"Me excelente bonita esta universidad\"  # Reemplaza con el comentario que quieres evaluar\n",
    "\n",
    "# Selecciona el modelo que deseas usar para la predicción, por ejemplo, el Support Vector Machine\n",
    "modelo_seleccionado_balanceado = models_balanceado['Support Vector Machine']\n",
    "modelo_seleccionado_nobalanceado = models_nobalanceado['Random Forest']\n",
    "\n",
    "# Predice el sentimiento del nuevo comentario\n",
    "sentimiento_predicho = predict_sentiment(nuevo_comentario, modelo_seleccionado_nobalanceado, vectorizer)\n",
    "print(\"El sentimiento del comentario es: {}\".format(sentimiento_predicho))"
   ]
  },
  {
   "cell_type": "code",
   "execution_count": null,
   "id": "f205c466-c63e-47ba-822e-22f4a8044c85",
   "metadata": {},
   "outputs": [],
   "source": []
  }
 ],
 "metadata": {
  "kernelspec": {
   "display_name": "Python 3 (ipykernel)",
   "language": "python",
   "name": "python3"
  },
  "language_info": {
   "codemirror_mode": {
    "name": "ipython",
    "version": 3
   },
   "file_extension": ".py",
   "mimetype": "text/x-python",
   "name": "python",
   "nbconvert_exporter": "python",
   "pygments_lexer": "ipython3",
   "version": "3.11.7"
  }
 },
 "nbformat": 4,
 "nbformat_minor": 5
}
